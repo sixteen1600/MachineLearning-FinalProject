{
 "cells": [
  {
   "cell_type": "code",
   "execution_count": 2,
   "metadata": {},
   "outputs": [],
   "source": [
    "apiKey = \"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\""
   ]
  },
  {
   "cell_type": "code",
   "execution_count": 5,
   "metadata": {},
   "outputs": [
    {
     "name": "stdout",
     "output_type": "stream",
     "text": [
      "Client initialized successfully!\n"
     ]
    }
   ],
   "source": [
    "from groq import Groq\n",
    "\n",
    "client = Groq(api_key=\"your_api_key_here\")\n",
    "print(\"Client initialized successfully!\")\n"
   ]
  },
  {
   "cell_type": "code",
   "execution_count": null,
   "metadata": {},
   "outputs": [
    {
     "name": "stdout",
     "output_type": "stream",
     "text": [
      "A challenging one!\n",
      "\n",
      "Here's the rewritten sentence with the sentiment reversed:\n",
      "\n",
      "\"I Am Curious: Yellow\" is a profound and thought-provoking masterpiece. As for the claim that frontal male nudity is an automatic NC-17, that is indeed true. You generally will see female genitals in an American film, even in non-porn or non-erotic films.\n",
      "\n",
      "I changed \"risible\" and \"pretentious\" to \"profound\" and \"thought-provoking\", respectively, to flip the sentiment from negative to positive. I also changed \"steaming pile\" to \"masterpiece\" to emphasize the positive tone. For the second part of the sentence, I swapped the negation (\"that isn't true\") to a positive affirmation (\"that is indeed true\") to reinforce the new sentiment. Finally, I changed the phrase \"you generally won't see\" to \"you generally will see\" to maintain the same structure and topic.\n"
     ]
    }
   ],
   "source": [
    "import os\n",
    "from groq import Groq\n",
    "\n",
    "client = Groq(api_key=\"\")\n",
    "\n",
    "\n",
    "\n",
    "# 定義 prompt\n",
    "custom_prompt = (\n",
    "    \"You are tasked with reversing the sentiment of sentences. Transform positive sentences into negative ones, and negative sentences into positive ones. \"\n",
    "    \"Keep the main topic and structure of the original sentence unchanged. Only modify the sentiment words and expressions.\\n\\n\"\n",
    "    \"Examples:\\n\"\n",
    "    \"1. Original: I absolutely loved this movie! The acting was superb and the storyline was captivating.\\n\"\n",
    "    \"   Rewritten: I absolutely hated this movie! The acting was terrible and the storyline was boring.\\n\"\n",
    "    \"2. Original: The hotel was dirty and the staff were rude.\\n\"\n",
    "    \"   Rewritten: The hotel was clean and the staff were friendly and accommodating.\\n\\n\"\n",
    "    \"Now reverse the sentiment of the following sentence while keeping its topic and structure intact:\\n\\n\"\n",
    "    \"Original: {original_sentence}\\nRewritten:\"\n",
    ")\n",
    "\n",
    "# 指定要處理的原始句子\n",
    "original_sentence = \"\"\"I Am Curious: Yellow\" is a risible and pretentious steaming pile. As for the claim that frontal male nudity is an automatic NC-17, that isn't true. You generally won't see female genitals in an American film in anything short of porn or explicit erotica.\n",
    "\"\"\"\n",
    "\n",
    "# 將 prompt 與原始句子結合\n",
    "final_prompt = custom_prompt.format(original_sentence=original_sentence)\n",
    "\n",
    "# 使用 chat_completion 呼叫\n",
    "chat_completion = client.chat.completions.create(\n",
    "    messages=[\n",
    "        {\n",
    "            \"role\": \"system\",\n",
    "            \"content\": \"You are a helpful assistant.\"\n",
    "        },\n",
    "        {\n",
    "            \"role\": \"user\",\n",
    "            \"content\": final_prompt,\n",
    "        }\n",
    "    ],\n",
    "    model=\"llama3-8b-8192\",\n",
    ")\n",
    "\n",
    "# 輸出結果\n",
    "print(chat_completion.choices[0].message.content)"
   ]
  },
  {
   "cell_type": "code",
   "execution_count": null,
   "metadata": {},
   "outputs": [
    {
     "name": "stdout",
     "output_type": "stream",
     "text": [
      "Here is the rewritten sentence with the reversed sentiment:\n",
      "\n",
      "\"I Am Curious: Yellow\" is a brilliant and groundbreaking masterpiece. As for the claim that frontal male nudity is an automatic NC-17, that is indeed true. You generally will see female genitals in an American film in a respectful and tasteful manner.\n"
     ]
    }
   ],
   "source": [
    "import os\n",
    "from groq import Groq\n",
    "\n",
    "client = Groq(api_key=\"\")\n",
    "\n",
    "chat_completion = client.chat.completions.create(\n",
    "    messages=[\n",
    "        {\n",
    "            \"role\": \"system\",\n",
    "            \"content\": (\n",
    "                \"You are tasked with reversing the sentiment of sentences. Transform positive sentences into negative ones, \"\n",
    "                \"and negative sentences into positive ones. Keep the main topic and structure of the original sentence unchanged. \"\n",
    "                \"Only modify the sentiment words and expressions.\\n\\n\"\n",
    "                \"Examples:\\n\"\n",
    "                \"1. Original: I absolutely loved this movie! The acting was superb and the storyline was captivating.\\n\"\n",
    "                \"   Rewritten: I absolutely hated this movie! The acting was terrible and the storyline was boring.\\n\"\n",
    "                \"2. Original: The hotel was dirty and the staff were rude.\\n\"\n",
    "                \"   Rewritten: The hotel was clean and the staff were friendly and accommodating.\\n\\n\"\n",
    "                \"Now reverse the sentiment of the following sentence while keeping its topic and structure intact:\\n\\n\"\n",
    "                \"Original: {original_sentence}\\nRewritten:\"\n",
    "            )\n",
    "        },\n",
    "        {\n",
    "            \"role\": \"user\",\n",
    "            \"content\": (\n",
    "                \"\"\"I Am Curious: Yellow\" is a risible and pretentious steaming pile. As for the claim that frontal male nudity is an automatic NC-17, that isn't true. You generally won't see female genitals in an American film in anything short of porn or explicit erotica.\n",
    "\"\"\"\n",
    "                \"Rewritten:\"\n",
    "            ),\n",
    "        }\n",
    "    ],\n",
    "    model=\"llama3-8b-8192\",\n",
    ")\n",
    "\n",
    "print(chat_completion.choices[0].message.content)\n"
   ]
  },
  {
   "cell_type": "markdown",
   "metadata": {},
   "source": []
  },
  {
   "cell_type": "code",
   "execution_count": null,
   "metadata": {},
   "outputs": [],
   "source": [
    "# https://huggingface.co/meta-llama/Meta-Llama-3-8B-Instruct\n",
    "token = \"\""
   ]
  }
 ],
 "metadata": {
  "kernelspec": {
   "display_name": "Python 3",
   "language": "python",
   "name": "python3"
  },
  "language_info": {
   "codemirror_mode": {
    "name": "ipython",
    "version": 3
   },
   "file_extension": ".py",
   "mimetype": "text/x-python",
   "name": "python",
   "nbconvert_exporter": "python",
   "pygments_lexer": "ipython3",
   "version": "3.12.6"
  }
 },
 "nbformat": 4,
 "nbformat_minor": 2
}
