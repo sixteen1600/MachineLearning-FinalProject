{
 "cells": [
  {
   "cell_type": "code",
   "execution_count": 3,
   "metadata": {},
   "outputs": [],
   "source": [
    "# from datasets import load_dataset\n",
    "# imdb_train = load_dataset(\"imdb\",split=\"train[:2000]+train[-2000:]\") \n",
    "# imdb_test = load_dataset(\"imdb\",split=\"train[:500]+train[-500:]\") \n",
    "# imdb_val = load_dataset(\"imdb\",split=\"train[500:1000]+train[-1000:-500]\") \n",
    "\n",
    "# imdb_train.shape, imdb_test.shape, imdb_val.shape"
   ]
  },
  {
   "cell_type": "code",
   "execution_count": 1,
   "metadata": {},
   "outputs": [
    {
     "name": "stdout",
     "output_type": "stream",
     "text": [
      "                                        summarized_text  \\\n",
      "0     \"I Am Curious: Yellow\" is a risible and preten...   \n",
      "1     If only to avoid making this type of film in t...   \n",
      "2     This film was probably inspired by Godard's Ma...   \n",
      "3     The only reason this film was not condemned to...   \n",
      "4     The film is self-consciously arty in the worst...   \n",
      "...                                                 ...   \n",
      "2872  Very smart, sometimes shocking, I just love it...   \n",
      "2873  A hit at the time but now better categorised a...   \n",
      "2874  I love this movie like no other. Another time ...   \n",
      "2875  This film and it's sequel Barry Mckenzie holds...   \n",
      "2876  The story centers around Barry McKenzie who mu...   \n",
      "\n",
      "                                     corrected_reversed  \\\n",
      "0     \"I Am Curious: Yellow\" is a brilliant and thou...   \n",
      "1     If only to ensure making this type of film in ...   \n",
      "2     This film was probably inspired by Godard's Ma...   \n",
      "3     The only reason this film was not celebrated f...   \n",
      "4     The film is self-consciously artistic in the b...   \n",
      "...                                                 ...   \n",
      "2872  Very dumb, sometimes predictable, I just hate ...   \n",
      "2873  A flop at the time but now better categorised ...   \n",
      "2874  I hate this movie like no other. Another time ...   \n",
      "2875  This film and it's sequel Barry Mckenzie holds...   \n",
      "2876  The story centers around Barry McKenzie who mu...   \n",
      "\n",
      "      corrected_reversed_label  \n",
      "0                            1  \n",
      "1                            1  \n",
      "2                            1  \n",
      "3                            1  \n",
      "4                            1  \n",
      "...                        ...  \n",
      "2872                         0  \n",
      "2873                         0  \n",
      "2874                         0  \n",
      "2875                         0  \n",
      "2876                         0  \n",
      "\n",
      "[2877 rows x 3 columns]\n",
      "text     \"I Am Curious: Yellow\" is a brilliant and thou...\n",
      "label                                                    1\n",
      "Name: 0, dtype: object\n"
     ]
    }
   ],
   "source": [
    "import pandas as pd\n",
    "from datasets import Dataset\n",
    "\n",
    "fileName = \"../6/data/5. corrected_reversed/2024.12.24_16.37.32_corrected_reversed_train.csv\"\n",
    "df_train = pd.read_csv(fileName,index_col=0, encoding='unicode_escape')\n",
    "print(df_train)\n",
    "\n",
    "df2_train = pd.DataFrame({\n",
    "    \"text\":df_train[\"corrected_reversed\"].values.tolist(),\n",
    "    \"label\":df_train[\"corrected_reversed_label\"].values.tolist(),\n",
    "})\n",
    "\n",
    "reversed_train_dataset = Dataset.from_pandas(df2_train)\n",
    "print(pd.DataFrame(reversed_train_dataset).iloc[0])"
   ]
  },
  {
   "cell_type": "code",
   "execution_count": 60,
   "metadata": {},
   "outputs": [
    {
     "name": "stdout",
     "output_type": "stream",
     "text": [
      "                                       summarized_text  summarized_sentiment  \\\n",
      "0    \"I Am Curious: Yellow\" is a risible and preten...                     0   \n",
      "1    If only to avoid making this type of film in t...                     0   \n",
      "2    This film was probably inspired by Godard's Ma...                     0   \n",
      "3    The only reason this film was not condemned to...                     0   \n",
      "4    The film is self-consciously arty in the worst...                     0   \n",
      "..                                                 ...                   ...   \n",
      "695  Very smart, sometimes shocking, I just love it...                     1   \n",
      "696  A hit at the time but now better categorised a...                     1   \n",
      "697  I love this movie like no other. Another time ...                     1   \n",
      "698  This film and it's sequel Barry Mckenzie holds...                     1   \n",
      "699  The story centers around Barry McKenzie who mu...                     1   \n",
      "\n",
      "                                    corrected_reversed  \\\n",
      "0    \"I Am Curious: Yellow\" is a brilliant and thou...   \n",
      "1    If only to ensure making this type of film in ...   \n",
      "2    This film was probably inspired by Godard's Ma...   \n",
      "3    The only reason this film was not celebrated f...   \n",
      "4    The film is self-consciously arty in the best ...   \n",
      "..                                                 ...   \n",
      "695  Very stupid, sometimes predictable, I just hat...   \n",
      "696  A miss at the time but now better categorised ...   \n",
      "697  I hate this movie like no other. Another time ...   \n",
      "698  This film and it's sequel Barry Mckenzie holds...   \n",
      "699  The story centers around Barry McKenzie who mu...   \n",
      "\n",
      "     corrected_reversed_label  \n",
      "0                           1  \n",
      "1                           1  \n",
      "2                           1  \n",
      "3                           1  \n",
      "4                           1  \n",
      "..                        ...  \n",
      "695                         0  \n",
      "696                         0  \n",
      "697                         0  \n",
      "698                         0  \n",
      "699                         0  \n",
      "\n",
      "[700 rows x 4 columns]\n",
      "text     \"I Am Curious: Yellow\" is a brilliant and thou...\n",
      "label                                                    1\n",
      "Name: 0, dtype: object\n"
     ]
    }
   ],
   "source": [
    "import pandas as pd\n",
    "from datasets import Dataset\n",
    "\n",
    "fileName = \"../6/data/5. corrected_reversed/2024.12.25_00.08.12_corrected_reversed_test.csv\"\n",
    "df_test = pd.read_csv(fileName,index_col=0, encoding='unicode_escape')\n",
    "\n",
    "print(df_test)\n",
    "\n",
    "df2_test = pd.DataFrame({\n",
    "    \"text\":df_test[\"corrected_reversed\"].values.tolist(),\n",
    "    \"label\":df_test[\"corrected_reversed_label\"].values.tolist(),\n",
    "})\n",
    "\n",
    "reversed_test_dataset = Dataset.from_pandas(df2_test)\n",
    "print(pd.DataFrame(reversed_test_dataset).iloc[0])"
   ]
  },
  {
   "cell_type": "code",
   "execution_count": 59,
   "metadata": {},
   "outputs": [
    {
     "name": "stdout",
     "output_type": "stream",
     "text": [
      "text     \"I Am Curious: Yellow\" is a brilliant and thou...\n",
      "label                                                    1\n",
      "Name: 0, dtype: object\n"
     ]
    }
   ],
   "source": []
  },
  {
   "cell_type": "code",
   "execution_count": 22,
   "metadata": {},
   "outputs": [
    {
     "name": "stdout",
     "output_type": "stream",
     "text": [
      "                                corrected_reversed_val  \\\n",
      "0    From the moment the cast drove up in their sta...   \n",
      "1    The movie successfully conveyed a strong moral...   \n",
      "2    The Apprentice was once a terrible TV-show, bu...   \n",
      "3    I used to dislike the show, but it has become ...   \n",
      "4    I'd hate to hear just one person get up and sa...   \n",
      "..                                                 ...   \n",
      "727  \"Scoop\" is another terrible Woody Allen's come...   \n",
      "728  \"Angels in the Outfield\" weaves the story of R...   \n",
      "729  I have always disliked this terrible baseball ...   \n",
      "730  The spirit drags through in two ways: A dull c...   \n",
      "731  I really hated this movie as a young kid. At t...   \n",
      "\n",
      "     polarity_reversed_sentiment_result  \n",
      "0                                     1  \n",
      "1                                     1  \n",
      "2                                     1  \n",
      "3                                     1  \n",
      "4                                     1  \n",
      "..                                  ...  \n",
      "727                                   0  \n",
      "728                                   0  \n",
      "729                                   0  \n",
      "730                                   0  \n",
      "731                                   0  \n",
      "\n",
      "[732 rows x 2 columns]\n",
      "text     From the moment the cast drove up in their sta...\n",
      "label                                                    1\n",
      "Name: 0, dtype: object\n"
     ]
    }
   ],
   "source": [
    "import pandas as pd\n",
    "from datasets import Dataset\n",
    "fileName = \"../6/data/5. corrected_reversed/2024.12.24_21.33.00_corrected_reversed_val.csv\"\n",
    "df_val = pd.read_csv(fileName,index_col=0, encoding='unicode_escape')\n",
    "print(df_val)\n",
    "\n",
    "df2_val = pd.DataFrame({\n",
    "    \"text\":df_val[\"corrected_reversed_val\"].values.tolist(),\n",
    "    \"label\":df_val[\"polarity_reversed_sentiment_result\"].values.tolist(),\n",
    "})\n",
    "\n",
    "reversed_val_dataset = Dataset.from_pandas(df2_val)\n",
    "reversed_val_dataset\n",
    "print(pd.DataFrame(reversed_val_dataset).iloc[0])"
   ]
  },
  {
   "cell_type": "code",
   "execution_count": 24,
   "metadata": {},
   "outputs": [
    {
     "data": {
      "text/plain": [
       "[1,\n",
       " 1,\n",
       " 1,\n",
       " 1,\n",
       " 1,\n",
       " 1,\n",
       " 1,\n",
       " 1,\n",
       " 1,\n",
       " 1,\n",
       " 1,\n",
       " 1,\n",
       " 1,\n",
       " 1,\n",
       " 1,\n",
       " 1,\n",
       " 1,\n",
       " 1,\n",
       " 1,\n",
       " 1,\n",
       " 1,\n",
       " 1,\n",
       " 1,\n",
       " 1,\n",
       " 1,\n",
       " 1,\n",
       " 1,\n",
       " 1,\n",
       " 1,\n",
       " 1,\n",
       " 1,\n",
       " 1,\n",
       " 1,\n",
       " 1,\n",
       " 1,\n",
       " 1,\n",
       " 1,\n",
       " 1,\n",
       " 1,\n",
       " 1,\n",
       " 1,\n",
       " 1,\n",
       " 1,\n",
       " 1,\n",
       " 1,\n",
       " 1,\n",
       " 1,\n",
       " 1,\n",
       " 1,\n",
       " 1,\n",
       " 1,\n",
       " 1,\n",
       " 1,\n",
       " 1,\n",
       " 1,\n",
       " 1,\n",
       " 1,\n",
       " 1,\n",
       " 1,\n",
       " 1,\n",
       " 1,\n",
       " 1,\n",
       " 1,\n",
       " 1,\n",
       " 1,\n",
       " 1,\n",
       " 1,\n",
       " 1,\n",
       " 1,\n",
       " 1,\n",
       " 1,\n",
       " 1,\n",
       " 1,\n",
       " 1,\n",
       " 1,\n",
       " 1,\n",
       " 1,\n",
       " 1,\n",
       " 1,\n",
       " 1,\n",
       " 1,\n",
       " 1,\n",
       " 1,\n",
       " 1,\n",
       " 1,\n",
       " 1,\n",
       " 1,\n",
       " 1,\n",
       " 1,\n",
       " 1,\n",
       " 1,\n",
       " 1,\n",
       " 1,\n",
       " 1,\n",
       " 1,\n",
       " 1,\n",
       " 1,\n",
       " 1,\n",
       " 1,\n",
       " 1,\n",
       " 1,\n",
       " 1,\n",
       " 1,\n",
       " 1,\n",
       " 1,\n",
       " 1,\n",
       " 1,\n",
       " 1,\n",
       " 1,\n",
       " 1,\n",
       " 1,\n",
       " 1,\n",
       " 1,\n",
       " 1,\n",
       " 1,\n",
       " 1,\n",
       " 1,\n",
       " 1,\n",
       " 1,\n",
       " 1,\n",
       " 1,\n",
       " 1,\n",
       " 1,\n",
       " 1,\n",
       " 1,\n",
       " 1,\n",
       " 1,\n",
       " 1,\n",
       " 1,\n",
       " 1,\n",
       " 1,\n",
       " 1,\n",
       " 1,\n",
       " 1,\n",
       " 1,\n",
       " 1,\n",
       " 1,\n",
       " 1,\n",
       " 1,\n",
       " 1,\n",
       " 1,\n",
       " 1,\n",
       " 1,\n",
       " 1,\n",
       " 1,\n",
       " 1,\n",
       " 1,\n",
       " 1,\n",
       " 1,\n",
       " 1,\n",
       " 1,\n",
       " 1,\n",
       " 1,\n",
       " 1,\n",
       " 1,\n",
       " 1,\n",
       " 1,\n",
       " 1,\n",
       " 1,\n",
       " 1,\n",
       " 1,\n",
       " 1,\n",
       " 1,\n",
       " 1,\n",
       " 1,\n",
       " 1,\n",
       " 1,\n",
       " 1,\n",
       " 1,\n",
       " 1,\n",
       " 1,\n",
       " 1,\n",
       " 1,\n",
       " 1,\n",
       " 1,\n",
       " 1,\n",
       " 1,\n",
       " 1,\n",
       " 1,\n",
       " 1,\n",
       " 1,\n",
       " 1,\n",
       " 1,\n",
       " 1,\n",
       " 1,\n",
       " 1,\n",
       " 1,\n",
       " 1,\n",
       " 1,\n",
       " 1,\n",
       " 1,\n",
       " 1,\n",
       " 1,\n",
       " 1,\n",
       " 1,\n",
       " 1,\n",
       " 1,\n",
       " 1,\n",
       " 1,\n",
       " 1,\n",
       " 1,\n",
       " 1,\n",
       " 1,\n",
       " 1,\n",
       " 1,\n",
       " 1,\n",
       " 1,\n",
       " 1,\n",
       " 1,\n",
       " 1,\n",
       " 1,\n",
       " 1,\n",
       " 1,\n",
       " 1,\n",
       " 1,\n",
       " 1,\n",
       " 1,\n",
       " 1,\n",
       " 1,\n",
       " 1,\n",
       " 1,\n",
       " 1,\n",
       " 1,\n",
       " 1,\n",
       " 1,\n",
       " 1,\n",
       " 1,\n",
       " 1,\n",
       " 1,\n",
       " 1,\n",
       " 1,\n",
       " 1,\n",
       " 1,\n",
       " 1,\n",
       " 1,\n",
       " 1,\n",
       " 1,\n",
       " 1,\n",
       " 1,\n",
       " 1,\n",
       " 1,\n",
       " 1,\n",
       " 1,\n",
       " 1,\n",
       " 1,\n",
       " 1,\n",
       " 1,\n",
       " 1,\n",
       " 1,\n",
       " 1,\n",
       " 1,\n",
       " 1,\n",
       " 1,\n",
       " 1,\n",
       " 1,\n",
       " 1,\n",
       " 1,\n",
       " 1,\n",
       " 1,\n",
       " 1,\n",
       " 1,\n",
       " 1,\n",
       " 1,\n",
       " 1,\n",
       " 1,\n",
       " 1,\n",
       " 1,\n",
       " 1,\n",
       " 1,\n",
       " 1,\n",
       " 1,\n",
       " 1,\n",
       " 1,\n",
       " 1,\n",
       " 1,\n",
       " 1,\n",
       " 1,\n",
       " 1,\n",
       " 1,\n",
       " 1,\n",
       " 1,\n",
       " 1,\n",
       " 1,\n",
       " 1,\n",
       " 1,\n",
       " 1,\n",
       " 1,\n",
       " 1,\n",
       " 1,\n",
       " 1,\n",
       " 1,\n",
       " 1,\n",
       " 1,\n",
       " 1,\n",
       " 1,\n",
       " 1,\n",
       " 1,\n",
       " 1,\n",
       " 1,\n",
       " 1,\n",
       " 1,\n",
       " 1,\n",
       " 1,\n",
       " 1,\n",
       " 1,\n",
       " 1,\n",
       " 1,\n",
       " 1,\n",
       " 1,\n",
       " 1,\n",
       " 1,\n",
       " 1,\n",
       " 1,\n",
       " 1,\n",
       " 1,\n",
       " 1,\n",
       " 1,\n",
       " 1,\n",
       " 1,\n",
       " 1,\n",
       " 1,\n",
       " 1,\n",
       " 1,\n",
       " 1,\n",
       " 1,\n",
       " 1,\n",
       " 1,\n",
       " 1,\n",
       " 1,\n",
       " 1,\n",
       " 1,\n",
       " 1,\n",
       " 1,\n",
       " 1,\n",
       " 1,\n",
       " 1,\n",
       " 1,\n",
       " 1,\n",
       " 1,\n",
       " 1,\n",
       " 1,\n",
       " 1,\n",
       " 1,\n",
       " 1,\n",
       " 1,\n",
       " 1,\n",
       " 1,\n",
       " 1,\n",
       " 1,\n",
       " 1,\n",
       " 1,\n",
       " 1,\n",
       " 1,\n",
       " 1,\n",
       " 1,\n",
       " 1,\n",
       " 1,\n",
       " 1,\n",
       " 1,\n",
       " 1,\n",
       " 1,\n",
       " 1,\n",
       " 1,\n",
       " 0,\n",
       " 0,\n",
       " 0,\n",
       " 0,\n",
       " 0,\n",
       " 0,\n",
       " 0,\n",
       " 0,\n",
       " 0,\n",
       " 0,\n",
       " 0,\n",
       " 0,\n",
       " 0,\n",
       " 0,\n",
       " 0,\n",
       " 0,\n",
       " 0,\n",
       " 0,\n",
       " 0,\n",
       " 0,\n",
       " 0,\n",
       " 0,\n",
       " 0,\n",
       " 0,\n",
       " 0,\n",
       " 0,\n",
       " 0,\n",
       " 0,\n",
       " 0,\n",
       " 0,\n",
       " 0,\n",
       " 0,\n",
       " 0,\n",
       " 0,\n",
       " 0,\n",
       " 0,\n",
       " 0,\n",
       " 0,\n",
       " 0,\n",
       " 0,\n",
       " 0,\n",
       " 0,\n",
       " 0,\n",
       " 0,\n",
       " 0,\n",
       " 0,\n",
       " 0,\n",
       " 0,\n",
       " 0,\n",
       " 0,\n",
       " 0,\n",
       " 0,\n",
       " 0,\n",
       " 0,\n",
       " 0,\n",
       " 0,\n",
       " 0,\n",
       " 0,\n",
       " 0,\n",
       " 0,\n",
       " 0,\n",
       " 0,\n",
       " 0,\n",
       " 0,\n",
       " 0,\n",
       " 0,\n",
       " 0,\n",
       " 0,\n",
       " 0,\n",
       " 0,\n",
       " 0,\n",
       " 0,\n",
       " 0,\n",
       " 0,\n",
       " 0,\n",
       " 0,\n",
       " 0,\n",
       " 0,\n",
       " 0,\n",
       " 0,\n",
       " 0,\n",
       " 0,\n",
       " 0,\n",
       " 0,\n",
       " 0,\n",
       " 0,\n",
       " 0,\n",
       " 0,\n",
       " 0,\n",
       " 0,\n",
       " 0,\n",
       " 0,\n",
       " 0,\n",
       " 0,\n",
       " 0,\n",
       " 0,\n",
       " 0,\n",
       " 0,\n",
       " 0,\n",
       " 0,\n",
       " 0,\n",
       " 0,\n",
       " 0,\n",
       " 0,\n",
       " 0,\n",
       " 0,\n",
       " 0,\n",
       " 0,\n",
       " 0,\n",
       " 0,\n",
       " 0,\n",
       " 0,\n",
       " 0,\n",
       " 0,\n",
       " 0,\n",
       " 0,\n",
       " 0,\n",
       " 0,\n",
       " 0,\n",
       " 0,\n",
       " 0,\n",
       " 0,\n",
       " 0,\n",
       " 0,\n",
       " 0,\n",
       " 0,\n",
       " 0,\n",
       " 0,\n",
       " 0,\n",
       " 0,\n",
       " 0,\n",
       " 0,\n",
       " 0,\n",
       " 0,\n",
       " 0,\n",
       " 0,\n",
       " 0,\n",
       " 0,\n",
       " 0,\n",
       " 0,\n",
       " 0,\n",
       " 0,\n",
       " 0,\n",
       " 0,\n",
       " 0,\n",
       " 0,\n",
       " 0,\n",
       " 0,\n",
       " 0,\n",
       " 0,\n",
       " 0,\n",
       " 0,\n",
       " 0,\n",
       " 0,\n",
       " 0,\n",
       " 0,\n",
       " 0,\n",
       " 0,\n",
       " 0,\n",
       " 0,\n",
       " 0,\n",
       " 0,\n",
       " 0,\n",
       " 0,\n",
       " 0,\n",
       " 0,\n",
       " 0,\n",
       " 0,\n",
       " 0,\n",
       " 0,\n",
       " 0,\n",
       " 0,\n",
       " 0,\n",
       " 0,\n",
       " 0,\n",
       " 0,\n",
       " 0,\n",
       " 0,\n",
       " 0,\n",
       " 0,\n",
       " 0,\n",
       " 0,\n",
       " 0,\n",
       " 0,\n",
       " 0,\n",
       " 0,\n",
       " 0,\n",
       " 0,\n",
       " 0,\n",
       " 0,\n",
       " 0,\n",
       " 0,\n",
       " 0,\n",
       " 0,\n",
       " 0,\n",
       " 0,\n",
       " 0,\n",
       " 0,\n",
       " 0,\n",
       " 0,\n",
       " 0,\n",
       " 0,\n",
       " 0,\n",
       " 0,\n",
       " 0,\n",
       " 0,\n",
       " 0,\n",
       " 0,\n",
       " 0,\n",
       " 0,\n",
       " 0,\n",
       " 0,\n",
       " 0,\n",
       " 0,\n",
       " 0,\n",
       " 0,\n",
       " 0,\n",
       " 0,\n",
       " 0,\n",
       " 0,\n",
       " 0,\n",
       " 0,\n",
       " 0,\n",
       " 0,\n",
       " 0,\n",
       " 0,\n",
       " 0,\n",
       " 0,\n",
       " 0,\n",
       " 0,\n",
       " 0,\n",
       " 0,\n",
       " 0,\n",
       " 0,\n",
       " 0,\n",
       " 0,\n",
       " 0,\n",
       " 0,\n",
       " 0,\n",
       " 0,\n",
       " 0,\n",
       " 0,\n",
       " 0,\n",
       " 0,\n",
       " 0,\n",
       " 0,\n",
       " 0,\n",
       " 0,\n",
       " 0,\n",
       " 0,\n",
       " 0,\n",
       " 0,\n",
       " 0,\n",
       " 0,\n",
       " 0,\n",
       " 0,\n",
       " 0,\n",
       " 0,\n",
       " 0,\n",
       " 0,\n",
       " 0,\n",
       " 0,\n",
       " 0,\n",
       " 0,\n",
       " 0,\n",
       " 0,\n",
       " 0,\n",
       " 0,\n",
       " 0,\n",
       " 0,\n",
       " 0,\n",
       " 0,\n",
       " 0,\n",
       " 0,\n",
       " 0,\n",
       " 0,\n",
       " 0,\n",
       " 0,\n",
       " 0,\n",
       " 0,\n",
       " 0,\n",
       " 0,\n",
       " 0,\n",
       " 0,\n",
       " 0,\n",
       " 0,\n",
       " 0,\n",
       " 0,\n",
       " 0,\n",
       " 0,\n",
       " 0,\n",
       " 0,\n",
       " 0,\n",
       " 0,\n",
       " 0,\n",
       " 0,\n",
       " 0,\n",
       " 0,\n",
       " 0,\n",
       " 0,\n",
       " 0,\n",
       " 0,\n",
       " 0,\n",
       " 0,\n",
       " 0,\n",
       " 0,\n",
       " 0,\n",
       " 0,\n",
       " 0,\n",
       " 0,\n",
       " 0,\n",
       " 0,\n",
       " 0,\n",
       " 0,\n",
       " 0,\n",
       " 0,\n",
       " 0,\n",
       " 0,\n",
       " 0,\n",
       " 0,\n",
       " 0,\n",
       " 0,\n",
       " 0,\n",
       " 0,\n",
       " 0,\n",
       " 0,\n",
       " 0,\n",
       " 0,\n",
       " 0,\n",
       " 0,\n",
       " 0,\n",
       " 0,\n",
       " 0,\n",
       " 0,\n",
       " 0,\n",
       " 0,\n",
       " 0,\n",
       " 0,\n",
       " 0,\n",
       " 0,\n",
       " 0,\n",
       " 0,\n",
       " 0,\n",
       " 0,\n",
       " 0,\n",
       " 0,\n",
       " 0,\n",
       " 0,\n",
       " 0,\n",
       " 0,\n",
       " 0,\n",
       " 0,\n",
       " 0,\n",
       " 0,\n",
       " 0,\n",
       " 0,\n",
       " 0,\n",
       " 0,\n",
       " 0,\n",
       " 0,\n",
       " 0,\n",
       " 0,\n",
       " 0,\n",
       " 0,\n",
       " 0,\n",
       " 0,\n",
       " 0,\n",
       " 0,\n",
       " 0]"
      ]
     },
     "execution_count": 24,
     "metadata": {},
     "output_type": "execute_result"
    }
   ],
   "source": [
    "reversed_val_dataset[\"label\"]"
   ]
  },
  {
   "cell_type": "code",
   "execution_count": null,
   "metadata": {},
   "outputs": [],
   "source": []
  },
  {
   "cell_type": "code",
   "execution_count": 33,
   "metadata": {},
   "outputs": [
    {
     "name": "stdout",
     "output_type": "stream",
     "text": [
      "                                 polarity_reversed_text  \\\n",
      "0     Darcy and her young daughter Pamela are headin...   \n",
      "1     I was thrilled to see this movie after reading...   \n",
      "2     Stephen J. Cannell apparently decided a few ye...   \n",
      "3     The film starts off with a fascinating backsto...   \n",
      "4     this movie is dissimilar to Darkness Falls, an...   \n",
      "...                                                 ...   \n",
      "1718  Meryl Streep was terrible in this film. I real...   \n",
      "1719  Michael Kallio gives a weak and unconvincing p...   \n",
      "1720  \"Adoration of a Minute\" is a psychological thr...   \n",
      "1721  The worst movie to come out of Michigan since....   \n",
      "1722  Some of the songs are pretty good, especially ...   \n",
      "\n",
      "      polarity_reversed_sentiment  \n",
      "0                               1  \n",
      "1                               1  \n",
      "2                               1  \n",
      "3                               1  \n",
      "4                               1  \n",
      "...                           ...  \n",
      "1718                            0  \n",
      "1719                            0  \n",
      "1720                            1  \n",
      "1721                            0  \n",
      "1722                            0  \n",
      "\n",
      "[1721 rows x 2 columns]\n",
      "[1 0]\n",
      "text     Darcy and her young daughter Pamela are headin...\n",
      "label                                                    1\n",
      "Name: 0, dtype: object\n"
     ]
    }
   ],
   "source": [
    "import pandas as pd\n",
    "from datasets import Dataset\n",
    "\n",
    "fileName = \"../6/data/5. corrected_reversed/2024.12.25_13.18.11_used_summarized_test_val.csv\"\n",
    "df_test_val = pd.read_csv(fileName,index_col=0, encoding='unicode_escape')\n",
    "\n",
    "print(df_test_val)\n",
    "\n",
    "print(df_test_val[\"polarity_reversed_sentiment\"].unique())\n",
    "\n",
    "df2_test_val = pd.DataFrame({\n",
    "    \"text\":df_test_val[\"polarity_reversed_text\"].values.tolist(),\n",
    "    \"label\":df_test_val[\"polarity_reversed_sentiment\"].values.tolist(),\n",
    "})\n",
    "\n",
    "df2_test_val[\"label\"] = df2_test_val[\"label\"].astype(int)\n",
    "\n",
    "reversed_test_dataset = Dataset.from_pandas(df2_test_val.loc[:861])\n",
    "reversed_val_dataset = Dataset.from_pandas(df2_test_val.loc[862:])\n",
    "# reversed_test_val_dataset = Dataset.from_pandas(df2_test_val)\n",
    "print(pd.DataFrame(reversed_test_dataset).iloc[0])"
   ]
  },
  {
   "cell_type": "code",
   "execution_count": 35,
   "metadata": {},
   "outputs": [],
   "source": [
    "from sklearn.metrics import (\n",
    "    accuracy_score,\n",
    "    precision_recall_fscore_support,\n",
    "    matthews_corrcoef,\n",
    "    roc_auc_score,\n",
    "    roc_curve,\n",
    ")\n",
    "\n",
    "import torch\n",
    "\n",
    "def compute_metrics (pred):\n",
    "    labels = pred.label_ids\n",
    "    preds = pred.predictions.argmax(-1)\n",
    "    \n",
    "    # 將 Logits 轉換為概率分數\n",
    "    probs = torch.nn.functional.softmax(torch.tensor(pred.predictions),dim=-1)\n",
    "    # 如果是二分類，取正類（假設標籤為1）的概率 ??\n",
    "    if (probs.shape[1]==2):\n",
    "        positive_probs = probs[:,1]\n",
    "    else:\n",
    "        positive_probs = probs[:,0]\n",
    "    # 計算精確率、召回率、F1 分數\n",
    "    precision, recall, f1, _ = precision_recall_fscore_support(labels, preds, average=\"macro\") #??\n",
    "    # 計算準確率\n",
    "    acc = accuracy_score(labels, preds)\n",
    "    # 計算 Matthews 相關係數（MCC）\n",
    "    mcc = matthews_corrcoef(labels, preds)\n",
    "    # 計算 AUC-ROC 分數\n",
    "    try:\n",
    "        auc = roc_auc_score(labels, positive_probs)\n",
    "    except ValueError:\n",
    "        auc = 0.0 # 如果無法計算 AUC，設為 0.0\n",
    "\n",
    "\n",
    "    return {\n",
    "        \"Accuracy\":acc,\n",
    "        \"F1\":f1,\n",
    "        \"Precision\":precision,\n",
    "        \"Recall\":recall,\n",
    "        \"MCC\":mcc,\n",
    "        \"AUC-ROC\":auc,\n",
    "    }"
   ]
  },
  {
   "cell_type": "markdown",
   "metadata": {},
   "source": [
    "## BERT"
   ]
  },
  {
   "cell_type": "code",
   "execution_count": 36,
   "metadata": {},
   "outputs": [
    {
     "name": "stdout",
     "output_type": "stream",
     "text": [
      "cuda\n"
     ]
    }
   ],
   "source": [
    "import torch\n",
    "#from torch import cuda\n",
    "device = torch.device(\"cuda\" if torch.cuda.is_available() else \"cpu\")\n",
    "print(device)"
   ]
  },
  {
   "cell_type": "code",
   "execution_count": 37,
   "metadata": {},
   "outputs": [
    {
     "name": "stderr",
     "output_type": "stream",
     "text": [
      "Some weights of BertForSequenceClassification were not initialized from the model checkpoint at C:/Users/PARALELL/Desktop/code/DistilBert BERT/0. models/BERT/bert-base-uncased and are newly initialized: ['classifier.bias', 'classifier.weight']\n",
      "You should probably TRAIN this model on a down-stream task to be able to use it for predictions and inference.\n",
      "c:\\Users\\PARALELL\\AppData\\Local\\Programs\\Python\\Python312\\Lib\\site-packages\\transformers\\tokenization_utils_base.py:1617: FutureWarning: `clean_up_tokenization_spaces` was not set. It will be set to `True` by default. This behavior will be deprecated in transformers v4.45, and will be then set to `False` by default. For more details check this issue: https://github.com/huggingface/transformers/issues/31884\n",
      "  warnings.warn(\n"
     ]
    }
   ],
   "source": [
    "# import os\n",
    "# os.environ['CUDA_LAUNCH_BLOCKING'] = \"1\"\n",
    "# os.environ['TORCH_USE_CUDA_DSA'] = \"1\"\n",
    "\n",
    "from transformers import AutoTokenizer,AutoModelForSequenceClassification\n",
    "\n",
    "path_BERT = \"C:/Users/PARALELL/Desktop/code/DistilBert BERT/0. models/BERT/bert-base-uncased\"\n",
    "model_BERT = AutoModelForSequenceClassification.from_pretrained(path_BERT) # ,device_map='cpu'\n",
    "tokenizer_BERT = AutoTokenizer.from_pretrained(path_BERT) # ,device_map='cpu'"
   ]
  },
  {
   "cell_type": "code",
   "execution_count": 38,
   "metadata": {},
   "outputs": [
    {
     "data": {
      "application/vnd.jupyter.widget-view+json": {
       "model_id": "74b17454183244c28bf87e789efa8019",
       "version_major": 2,
       "version_minor": 0
      },
      "text/plain": [
       "Map:   0%|          | 0/2877 [00:00<?, ? examples/s]"
      ]
     },
     "metadata": {},
     "output_type": "display_data"
    },
    {
     "data": {
      "application/vnd.jupyter.widget-view+json": {
       "model_id": "c73e31f8bb7f4aaf90889242f9a6e484",
       "version_major": 2,
       "version_minor": 0
      },
      "text/plain": [
       "Map:   0%|          | 0/862 [00:00<?, ? examples/s]"
      ]
     },
     "metadata": {},
     "output_type": "display_data"
    },
    {
     "data": {
      "application/vnd.jupyter.widget-view+json": {
       "model_id": "0d2df2eba9cd4a089f21860270a24731",
       "version_major": 2,
       "version_minor": 0
      },
      "text/plain": [
       "Map:   0%|          | 0/859 [00:00<?, ? examples/s]"
      ]
     },
     "metadata": {},
     "output_type": "display_data"
    }
   ],
   "source": [
    "# BERT\n",
    "enc_reversed_train_BERT = reversed_train_dataset.map(lambda e:tokenizer_BERT(e['text'],padding=True,truncation=True,max_length=128),batched=True,batch_size=1000)\n",
    "enc_reversed_test_BERT = reversed_test_dataset.map(lambda e:tokenizer_BERT(e['text'],padding=True,truncation=True,max_length=128),batched=True,batch_size=1000)\n",
    "enc_reversed_val_BERT = reversed_val_dataset.map(lambda e:tokenizer_BERT(e['text'],padding=True,truncation=True,max_length=128),batched=True,batch_size=1000)"
   ]
  },
  {
   "cell_type": "code",
   "execution_count": 21,
   "metadata": {},
   "outputs": [
    {
     "name": "stdout",
     "output_type": "stream",
     "text": [
      "text              I haven't seen a film as disappointing as DOG ...\n",
      "label                                                             0\n",
      "input_ids         [101, 1045, 4033, 1005, 1056, 2464, 1037, 2143...\n",
      "token_type_ids    [0, 0, 0, 0, 0, 0, 0, 0, 0, 0, 0, 0, 0, 0, 0, ...\n",
      "attention_mask    [1, 1, 1, 1, 1, 1, 1, 1, 1, 1, 1, 1, 1, 1, 1, ...\n",
      "Name: 0, dtype: object\n"
     ]
    }
   ],
   "source": [
    "print(pd.DataFrame(enc_reversed_val_BERT).iloc[0])"
   ]
  },
  {
   "cell_type": "code",
   "execution_count": 13,
   "metadata": {},
   "outputs": [
    {
     "name": "stdout",
     "output_type": "stream",
     "text": [
      "enc_reversed_train_BERT : (2877, 5)\n",
      "enc_reversed_test_BERT : (862, 5)\n",
      "enc_reversed_test_BERT : (862, 5)\n"
     ]
    }
   ],
   "source": [
    "print(\"enc_reversed_train_BERT :\",enc_reversed_train_BERT.shape)\n",
    "print(\"enc_reversed_test_BERT :\",enc_reversed_test_BERT.shape)\n",
    "print(\"enc_reversed_test_BERT :\",enc_reversed_test_BERT.shape)\n",
    "\n",
    "# print(\"=\"*100)\n",
    "# import pandas as pd\n",
    "# print(pd.DataFrame(enc_test_BERT).iloc[0])"
   ]
  },
  {
   "cell_type": "code",
   "execution_count": 39,
   "metadata": {},
   "outputs": [],
   "source": [
    "from transformers import Trainer, TrainingArguments\n",
    "\n",
    "training_args_BERT = TrainingArguments(\n",
    "    output_dir=\"./model_reversed/results_BERT_2\",\n",
    "    do_train=True,\n",
    "    do_eval=True,\n",
    "    num_train_epochs=3,\n",
    "    per_device_train_batch_size=32,\n",
    "    per_device_eval_batch_size=64,\n",
    "    warmup_steps=100,\n",
    "    weight_decay=0.01,\n",
    "    logging_strategy=\"steps\",\n",
    "    logging_dir=\"./model_reversed/BERT_logs_2\",\n",
    "    logging_steps=50,\n",
    "    eval_strategy=\"epoch\",\n",
    "    save_strategy=\"epoch\",\n",
    "    save_only_model=True,\n",
    "    fp16=True,\n",
    "    load_best_model_at_end=True,\n",
    ")\n",
    "\n"
   ]
  },
  {
   "cell_type": "code",
   "execution_count": 40,
   "metadata": {},
   "outputs": [
    {
     "name": "stderr",
     "output_type": "stream",
     "text": [
      "c:\\Users\\PARALELL\\AppData\\Local\\Programs\\Python\\Python312\\Lib\\site-packages\\accelerate\\accelerator.py:494: FutureWarning: `torch.cuda.amp.GradScaler(args...)` is deprecated. Please use `torch.amp.GradScaler('cuda', args...)` instead.\n",
      "  self.scaler = torch.cuda.amp.GradScaler(**kwargs)\n"
     ]
    }
   ],
   "source": [
    "# import os\n",
    "# os.environ['CUDA_LAUNCH_BLOCKING'] = \"1\"\n",
    "# os.environ['TORCH_USE_CUDA_DSA'] = \"1\"\n",
    "\n",
    "\n",
    "trainer_BERT = Trainer(\n",
    "    model=model_BERT,\n",
    "    args=training_args_BERT,\n",
    "    train_dataset=enc_reversed_train_BERT,\n",
    "    eval_dataset=enc_reversed_val_BERT,\n",
    "    compute_metrics=compute_metrics,\n",
    ")\n"
   ]
  },
  {
   "cell_type": "code",
   "execution_count": 41,
   "metadata": {},
   "outputs": [
    {
     "data": {
      "application/vnd.jupyter.widget-view+json": {
       "model_id": "eb4bce7ca4b045ba8484583ffd4450fb",
       "version_major": 2,
       "version_minor": 0
      },
      "text/plain": [
       "  0%|          | 0/270 [00:00<?, ?it/s]"
      ]
     },
     "metadata": {},
     "output_type": "display_data"
    },
    {
     "name": "stdout",
     "output_type": "stream",
     "text": [
      "{'loss': 0.5771, 'grad_norm': 4.377899646759033, 'learning_rate': 2.45e-05, 'epoch': 0.56}\n"
     ]
    },
    {
     "data": {
      "application/vnd.jupyter.widget-view+json": {
       "model_id": "970fa21f46b84145aa1000bd0b70d0ac",
       "version_major": 2,
       "version_minor": 0
      },
      "text/plain": [
       "  0%|          | 0/14 [00:00<?, ?it/s]"
      ]
     },
     "metadata": {},
     "output_type": "display_data"
    },
    {
     "name": "stdout",
     "output_type": "stream",
     "text": [
      "{'eval_loss': 0.33428534865379333, 'eval_Accuracy': 0.8963911525029103, 'eval_F1': 0.7976849854848485, 'eval_Precision': 0.8273483547593632, 'eval_Recall': 0.7755547525100597, 'eval_MCC': 0.6006742707334536, 'eval_AUC-ROC': 0.9045151775598703, 'eval_runtime': 0.6555, 'eval_samples_per_second': 1310.521, 'eval_steps_per_second': 21.359, 'epoch': 1.0}\n",
      "{'loss': 0.1196, 'grad_norm': 1.5188183784484863, 'learning_rate': 4.9500000000000004e-05, 'epoch': 1.11}\n",
      "{'loss': 0.0688, 'grad_norm': 1.2372313737869263, 'learning_rate': 3.558823529411765e-05, 'epoch': 1.67}\n"
     ]
    },
    {
     "data": {
      "application/vnd.jupyter.widget-view+json": {
       "model_id": "88afeeb63986443d8d16295a7b1339d9",
       "version_major": 2,
       "version_minor": 0
      },
      "text/plain": [
       "  0%|          | 0/14 [00:00<?, ?it/s]"
      ]
     },
     "metadata": {},
     "output_type": "display_data"
    },
    {
     "name": "stdout",
     "output_type": "stream",
     "text": [
      "{'eval_loss': 0.4007180333137512, 'eval_Accuracy': 0.9057043073341094, 'eval_F1': 0.8368669947505023, 'eval_Precision': 0.8245634626844112, 'eval_Recall': 0.8510958315427589, 'eval_MCC': 0.6751381453290297, 'eval_AUC-ROC': 0.9454818924092667, 'eval_runtime': 0.6358, 'eval_samples_per_second': 1351.099, 'eval_steps_per_second': 22.02, 'epoch': 2.0}\n",
      "{'loss': 0.0375, 'grad_norm': 0.028856560587882996, 'learning_rate': 2.0882352941176472e-05, 'epoch': 2.22}\n",
      "{'loss': 0.0258, 'grad_norm': 18.518056869506836, 'learning_rate': 6.1764705882352944e-06, 'epoch': 2.78}\n"
     ]
    },
    {
     "data": {
      "application/vnd.jupyter.widget-view+json": {
       "model_id": "490d5da35b1748279908991a3637264d",
       "version_major": 2,
       "version_minor": 0
      },
      "text/plain": [
       "  0%|          | 0/14 [00:00<?, ?it/s]"
      ]
     },
     "metadata": {},
     "output_type": "display_data"
    },
    {
     "name": "stdout",
     "output_type": "stream",
     "text": [
      "{'eval_loss': 0.42342570424079895, 'eval_Accuracy': 0.9220023282887078, 'eval_F1': 0.8447220386083718, 'eval_Precision': 0.8893494356111178, 'eval_Recall': 0.8133033167949368, 'eval_MCC': 0.6985255029537575, 'eval_AUC-ROC': 0.9461997499706998, 'eval_runtime': 0.6463, 'eval_samples_per_second': 1329.168, 'eval_steps_per_second': 21.663, 'epoch': 3.0}\n",
      "{'train_runtime': 26.1873, 'train_samples_per_second': 329.587, 'train_steps_per_second': 10.31, 'train_loss': 0.15469927412492257, 'epoch': 3.0}\n"
     ]
    }
   ],
   "source": [
    "# torch.cuda.empty_cache()\n",
    "\n",
    "# BERT\n",
    "\n",
    "# import os\n",
    "# os.environ['CUDA_LAUNCH_BLOCKING'] = \"1\"\n",
    "# os.environ['TORCH_USE_CUDA_DSA'] = \"1\"\n",
    "\n",
    "result_BERT = trainer_BERT.train()"
   ]
  },
  {
   "cell_type": "markdown",
   "metadata": {},
   "source": [
    "## DistilBert"
   ]
  },
  {
   "cell_type": "code",
   "execution_count": 42,
   "metadata": {},
   "outputs": [
    {
     "name": "stderr",
     "output_type": "stream",
     "text": [
      "Some weights of DistilBertForSequenceClassification were not initialized from the model checkpoint at C:/Users/PARALELL/Desktop/code/DistilBert BERT/0. models/DistilBert/distilbert-base-uncased and are newly initialized: ['classifier.bias', 'classifier.weight', 'pre_classifier.bias', 'pre_classifier.weight']\n",
      "You should probably TRAIN this model on a down-stream task to be able to use it for predictions and inference.\n",
      "c:\\Users\\PARALELL\\AppData\\Local\\Programs\\Python\\Python312\\Lib\\site-packages\\transformers\\tokenization_utils_base.py:1617: FutureWarning: `clean_up_tokenization_spaces` was not set. It will be set to `True` by default. This behavior will be deprecated in transformers v4.45, and will be then set to `False` by default. For more details check this issue: https://github.com/huggingface/transformers/issues/31884\n",
      "  warnings.warn(\n"
     ]
    }
   ],
   "source": [
    "from transformers import DistilBertForSequenceClassification,DistilBertTokenizerFast\n",
    "\n",
    "path_DistilBert = \"C:/Users/PARALELL/Desktop/code/DistilBert BERT/0. models/DistilBert/distilbert-base-uncased\"\n",
    "model_DistilBert = DistilBertForSequenceClassification.from_pretrained(path_DistilBert)\n",
    "tokenizer_DistilBert = DistilBertTokenizerFast.from_pretrained(path_DistilBert)"
   ]
  },
  {
   "cell_type": "code",
   "execution_count": 43,
   "metadata": {},
   "outputs": [
    {
     "data": {
      "application/vnd.jupyter.widget-view+json": {
       "model_id": "8a25d4323bb648018a1d469d1c03f8ed",
       "version_major": 2,
       "version_minor": 0
      },
      "text/plain": [
       "Map:   0%|          | 0/2877 [00:00<?, ? examples/s]"
      ]
     },
     "metadata": {},
     "output_type": "display_data"
    },
    {
     "data": {
      "application/vnd.jupyter.widget-view+json": {
       "model_id": "c5e69014141f459dbf9790acf1cc31d9",
       "version_major": 2,
       "version_minor": 0
      },
      "text/plain": [
       "Map:   0%|          | 0/862 [00:00<?, ? examples/s]"
      ]
     },
     "metadata": {},
     "output_type": "display_data"
    },
    {
     "data": {
      "application/vnd.jupyter.widget-view+json": {
       "model_id": "a9238647c93047e68667a078f2680515",
       "version_major": 2,
       "version_minor": 0
      },
      "text/plain": [
       "Map:   0%|          | 0/859 [00:00<?, ? examples/s]"
      ]
     },
     "metadata": {},
     "output_type": "display_data"
    }
   ],
   "source": [
    "# DistilBert\n",
    "enc_reversed_train_DistilBert = reversed_train_dataset.map(lambda e:tokenizer_DistilBert(e['text'],padding=True,truncation=True,max_length=128),batched=True,batch_size=1000)\n",
    "enc_reversed_test_DistilBert = reversed_test_dataset.map(lambda e:tokenizer_DistilBert(e['text'],padding=True,truncation=True,max_length=128),batched=True,batch_size=1000)\n",
    "enc_reversed_val_DistilBert = reversed_val_dataset.map(lambda e:tokenizer_DistilBert(e['text'],padding=True,truncation=True,max_length=128),batched=True,batch_size=1000)"
   ]
  },
  {
   "cell_type": "code",
   "execution_count": 104,
   "metadata": {},
   "outputs": [
    {
     "name": "stdout",
     "output_type": "stream",
     "text": [
      "enc_reversed_train_DistilBert : (2877, 4)\n",
      "enc_reversed_test_DistilBert : (700, 4)\n",
      "enc_reversed_val_DistilBert : (732, 4)\n"
     ]
    }
   ],
   "source": [
    "print(\"enc_reversed_train_DistilBert :\",enc_reversed_train_DistilBert.shape)\n",
    "print(\"enc_reversed_test_DistilBert :\",enc_reversed_test_DistilBert.shape)\n",
    "print(\"enc_reversed_val_DistilBert :\",enc_reversed_val_DistilBert.shape)\n",
    "\n",
    "# print(\"=\"*100)\n",
    "# import pandas as pd\n",
    "# pd.DataFrame(enc_train_DistilBert).iloc[0]"
   ]
  },
  {
   "cell_type": "code",
   "execution_count": 44,
   "metadata": {},
   "outputs": [],
   "source": [
    "from transformers import Trainer, TrainingArguments\n",
    "\n",
    "training_args_DistilBert = TrainingArguments(\n",
    "    output_dir=\"./model_reversed/results_DistilBert_2\",\n",
    "    do_train=True,\n",
    "    do_eval=True,\n",
    "    num_train_epochs=3,\n",
    "    per_device_train_batch_size=32,\n",
    "    per_device_eval_batch_size=64,\n",
    "    warmup_steps=100,\n",
    "    weight_decay=0.01,\n",
    "    logging_strategy=\"steps\",\n",
    "    logging_dir=\"./model_reversed/DistilBert_logs_2\",\n",
    "    logging_steps=50,\n",
    "    eval_strategy=\"epoch\",\n",
    "    save_strategy=\"epoch\",\n",
    "    save_only_model=True,\n",
    "    fp16=True,\n",
    "    load_best_model_at_end=True,\n",
    ")\n",
    "\n"
   ]
  },
  {
   "cell_type": "code",
   "execution_count": 45,
   "metadata": {},
   "outputs": [
    {
     "name": "stderr",
     "output_type": "stream",
     "text": [
      "c:\\Users\\PARALELL\\AppData\\Local\\Programs\\Python\\Python312\\Lib\\site-packages\\accelerate\\accelerator.py:494: FutureWarning: `torch.cuda.amp.GradScaler(args...)` is deprecated. Please use `torch.amp.GradScaler('cuda', args...)` instead.\n",
      "  self.scaler = torch.cuda.amp.GradScaler(**kwargs)\n"
     ]
    }
   ],
   "source": [
    "# DistilBert\n",
    "trainer_DistilBert = Trainer(\n",
    "    model=model_DistilBert,\n",
    "    args=training_args_DistilBert,\n",
    "    train_dataset=enc_reversed_train_BERT,\n",
    "    eval_dataset=enc_reversed_val_DistilBert,\n",
    "    compute_metrics=compute_metrics\n",
    ")"
   ]
  },
  {
   "cell_type": "code",
   "execution_count": 46,
   "metadata": {},
   "outputs": [
    {
     "data": {
      "application/vnd.jupyter.widget-view+json": {
       "model_id": "a425fa8107dc46c0b63cff22105905c2",
       "version_major": 2,
       "version_minor": 0
      },
      "text/plain": [
       "  0%|          | 0/270 [00:00<?, ?it/s]"
      ]
     },
     "metadata": {},
     "output_type": "display_data"
    },
    {
     "name": "stdout",
     "output_type": "stream",
     "text": [
      "{'loss': 0.623, 'grad_norm': 6.052933216094971, 'learning_rate': 2.5e-05, 'epoch': 0.56}\n"
     ]
    },
    {
     "data": {
      "application/vnd.jupyter.widget-view+json": {
       "model_id": "a0f169cede794a3ab8ed7a318ab31a53",
       "version_major": 2,
       "version_minor": 0
      },
      "text/plain": [
       "  0%|          | 0/14 [00:00<?, ?it/s]"
      ]
     },
     "metadata": {},
     "output_type": "display_data"
    },
    {
     "name": "stdout",
     "output_type": "stream",
     "text": [
      "{'eval_loss': 0.31220346689224243, 'eval_Accuracy': 0.9150174621653085, 'eval_F1': 0.8285668200371261, 'eval_Precision': 0.8785737552932922, 'eval_Recall': 0.7951224752900731, 'eval_MCC': 0.6685076626098306, 'eval_AUC-ROC': 0.9488953783646522, 'eval_runtime': 0.406, 'eval_samples_per_second': 2115.793, 'eval_steps_per_second': 34.483, 'epoch': 1.0}\n",
      "{'loss': 0.1132, 'grad_norm': 1.1756662130355835, 'learning_rate': 4.9e-05, 'epoch': 1.11}\n",
      "{'loss': 0.0663, 'grad_norm': 3.0493900775909424, 'learning_rate': 3.5882352941176474e-05, 'epoch': 1.67}\n"
     ]
    },
    {
     "data": {
      "application/vnd.jupyter.widget-view+json": {
       "model_id": "41c33572a7c04fe9969bf486d3446a83",
       "version_major": 2,
       "version_minor": 0
      },
      "text/plain": [
       "  0%|          | 0/14 [00:00<?, ?it/s]"
      ]
     },
     "metadata": {},
     "output_type": "display_data"
    },
    {
     "name": "stdout",
     "output_type": "stream",
     "text": [
      "{'eval_loss': 0.35995665192604065, 'eval_Accuracy': 0.9115250291036089, 'eval_F1': 0.8396978804486612, 'eval_Precision': 0.8416355518678758, 'eval_Recall': 0.837798374809548, 'eval_MCC': 0.6794230911534622, 'eval_AUC-ROC': 0.9550289096378481, 'eval_runtime': 0.4072, 'eval_samples_per_second': 2109.372, 'eval_steps_per_second': 34.379, 'epoch': 2.0}\n",
      "{'loss': 0.0443, 'grad_norm': 0.04112732410430908, 'learning_rate': 2.1176470588235296e-05, 'epoch': 2.22}\n",
      "{'loss': 0.022, 'grad_norm': 3.358351230621338, 'learning_rate': 6.470588235294119e-06, 'epoch': 2.78}\n"
     ]
    },
    {
     "data": {
      "application/vnd.jupyter.widget-view+json": {
       "model_id": "91b4532452a64f34812d865518e01176",
       "version_major": 2,
       "version_minor": 0
      },
      "text/plain": [
       "  0%|          | 0/14 [00:00<?, ?it/s]"
      ]
     },
     "metadata": {},
     "output_type": "display_data"
    },
    {
     "name": "stdout",
     "output_type": "stream",
     "text": [
      "{'eval_loss': 0.3937602937221527, 'eval_Accuracy': 0.9231664726426076, 'eval_F1': 0.8494902835297866, 'eval_Precision': 0.8858052828424496, 'eval_Recall': 0.8223961792397547, 'eval_MCC': 0.7053570701961345, 'eval_AUC-ROC': 0.9543598859241318, 'eval_runtime': 0.4108, 'eval_samples_per_second': 2091.282, 'eval_steps_per_second': 34.084, 'epoch': 3.0}\n",
      "{'train_runtime': 15.9092, 'train_samples_per_second': 542.516, 'train_steps_per_second': 16.971, 'train_loss': 0.16213746225392378, 'epoch': 3.0}\n"
     ]
    }
   ],
   "source": [
    "# DistilBert\n",
    "result_DistilBert = trainer_DistilBert.train()"
   ]
  },
  {
   "cell_type": "markdown",
   "metadata": {},
   "source": [
    "## AUC-ROC"
   ]
  },
  {
   "cell_type": "markdown",
   "metadata": {},
   "source": [
    "##### DistilBert"
   ]
  },
  {
   "cell_type": "code",
   "execution_count": 47,
   "metadata": {},
   "outputs": [
    {
     "data": {
      "application/vnd.jupyter.widget-view+json": {
       "model_id": "79daaceef4ab4d4d8bb017ef1fe4a6b9",
       "version_major": 2,
       "version_minor": 0
      },
      "text/plain": [
       "  0%|          | 0/14 [00:00<?, ?it/s]"
      ]
     },
     "metadata": {},
     "output_type": "display_data"
    },
    {
     "name": "stdout",
     "output_type": "stream",
     "text": [
      "AUC-ROC:0.9368\n"
     ]
    }
   ],
   "source": [
    "import matplotlib.pyplot as plt\n",
    "\n",
    "# 使用訓練好的模型進行預測\n",
    "predictions = trainer_DistilBert.predict(enc_reversed_test_DistilBert)\n",
    "labels = predictions.label_ids\n",
    "preds = predictions.predictions.argmax(-1)\n",
    "\n",
    "# 將 logits 轉換為概率分數\n",
    "probs = torch.nn.functional.softmax(torch.tensor(predictions.predictions),dim=-1)\n",
    "if (probs.shape[1]==2):\n",
    "        positive_probs = probs[:,1]\n",
    "else:\n",
    "    positive_probs = probs[:,0]\n",
    "\n",
    "# 計算 AUC-ROC 分數\n",
    "auc = roc_auc_score(labels, positive_probs)\n",
    "print(f\"AUC-ROC:{auc:.4f}\")\n",
    "\n"
   ]
  },
  {
   "cell_type": "code",
   "execution_count": 48,
   "metadata": {},
   "outputs": [
    {
     "data": {
      "image/png": "[encoded data removed]",
      "text/plain": [
       "<Figure size 640x480 with 1 Axes>"
      ]
     },
     "metadata": {},
     "output_type": "display_data"
    }
   ],
   "source": [
    "# 繪製 ROC 曲線\n",
    "fpr, tpr, thresholds = roc_curve(labels, positive_probs)\n",
    "\n",
    "plt.rc('font', family='Microsoft JhengHei')\n",
    "plt.figure()\n",
    "plt.plot(fpr, tpr, color='darkorange', lw=2, label=f'ROC 曲線(AUC = {auc:.4f})')\n",
    "plt.plot([0, 1], [0, 1], color='navy', lw=2, linestyle='--')\n",
    "plt.xlim([0.0, 1.0])\n",
    "plt.ylim([0.0, 1.05])\n",
    "plt.xlabel('假陽性率(False Positive Rate)')\n",
    "plt.ylabel('真陽性率(True Positive Rate)')\n",
    "plt.title('DistilBert - ROC 曲線')\n",
    "plt.legend(loc='lower right')\n",
    "plt.show()"
   ]
  },
  {
   "cell_type": "markdown",
   "metadata": {},
   "source": [
    "##### BERT"
   ]
  },
  {
   "cell_type": "code",
   "execution_count": 54,
   "metadata": {},
   "outputs": [
    {
     "data": {
      "application/vnd.jupyter.widget-view+json": {
       "model_id": "03d2c5dbbfd6462a8c89442e676c73bc",
       "version_major": 2,
       "version_minor": 0
      },
      "text/plain": [
       "  0%|          | 0/14 [00:00<?, ?it/s]"
      ]
     },
     "metadata": {},
     "output_type": "display_data"
    },
    {
     "name": "stdout",
     "output_type": "stream",
     "text": [
      "AUC-ROC:0.9238\n"
     ]
    }
   ],
   "source": [
    "import matplotlib.pyplot as plt\n",
    "\n",
    "# 使用訓練好的模型進行預測\n",
    "predictions = trainer_BERT.predict(enc_reversed_test_BERT)\n",
    "labels = predictions.label_ids\n",
    "preds = predictions.predictions.argmax(-1)\n",
    "\n",
    "# 將 logits 轉換為概率分數\n",
    "probs = torch.nn.functional.softmax(torch.tensor(predictions.predictions),dim=-1)\n",
    "if (probs.shape[1]==2):\n",
    "        positive_probs = probs[:,1]\n",
    "else:\n",
    "    positive_probs = probs[:,0]\n",
    "\n",
    "# 計算 AUC-ROC 分數\n",
    "auc = roc_auc_score(labels, positive_probs)\n",
    "print(f\"AUC-ROC:{auc:.4f}\")\n",
    "\n"
   ]
  },
  {
   "cell_type": "code",
   "execution_count": 55,
   "metadata": {},
   "outputs": [
    {
     "data": {
      "image/png": "[encoded data removed]",
      "text/plain": [
       "<Figure size 640x480 with 1 Axes>"
      ]
     },
     "metadata": {},
     "output_type": "display_data"
    }
   ],
   "source": [
    "# 繪製 ROC 曲線\n",
    "fpr, tpr, thresholds = roc_curve(labels, positive_probs)\n",
    "\n",
    "plt.rc('font', family='Microsoft JhengHei')\n",
    "plt.figure()\n",
    "plt.plot(fpr, tpr, color='darkorange', lw=2, label=f'ROC 曲線(AUC = {auc:.4f})')\n",
    "plt.plot([0, 1], [0, 1], color='navy', lw=2, linestyle='--')\n",
    "plt.xlim([0.0, 1.0])\n",
    "plt.ylim([0.0, 1.05])\n",
    "plt.xlabel('假陽性率(False Positive Rate)')\n",
    "plt.ylabel('真陽性率(True Positive Rate)')\n",
    "plt.title('ROC 曲線 - BERT')\n",
    "plt.legend(loc='lower right')\n",
    "plt.show()"
   ]
  },
  {
   "cell_type": "code",
   "execution_count": 57,
   "metadata": {},
   "outputs": [
    {
     "name": "stdout",
     "output_type": "stream",
     "text": [
      "Available scalar tags: ['train/loss', 'train/grad_norm', 'train/learning_rate', 'train/epoch', 'eval/loss', 'eval/Accuracy', 'eval/F1', 'eval/Precision', 'eval/Recall', 'eval/MCC', 'eval/AUC-ROC', 'eval/runtime', 'eval/samples_per_second', 'eval/steps_per_second', 'train/train_runtime', 'train/train_samples_per_second', 'train/train_steps_per_second', 'train/total_flos', 'train/train_loss']\n"
     ]
    },
    {
     "data": {
      "image/png": "[encoded data removed]",
      "text/plain": [
       "<Figure size 1200x1800 with 3 Axes>"
      ]
     },
     "metadata": {},
     "output_type": "display_data"
    }
   ],
   "source": [
    "from tensorboard.backend.event_processing import event_accumulator\n",
    "import matplotlib.pyplot as plt\n",
    "\n",
    "# 定義一個函式來提取步驟和數值\n",
    "def extract_steps_and_values(data):\n",
    "    steps = [x.step for x in data]\n",
    "    values = [x.value for x in data]\n",
    "    return steps, values\n",
    "\n",
    "# 指定 TensorBoard 日誌檔案夾路徑\n",
    "log_dir = '../6/model_reversed/DistilBert_logs_2'  # 根據實際情況修改路徑\n",
    "ea = event_accumulator.EventAccumulator(log_dir)\n",
    "ea.Reload()\n",
    "\n",
    "# 列出所有可用的標籤\n",
    "tags = ea.Tags()\n",
    "print(\"Available scalar tags:\", tags['scalars'])\n",
    "\n",
    "# 使用正確的標籤名稱提取數據\n",
    "# 根據實際情況修改標籤名稱\n",
    "try:\n",
    "    mcc = ea.scalars.Items('eval/MCC')\n",
    "    precision = ea.scalars.Items('eval/Precision')\n",
    "    recall = ea.scalars.Items('eval/Recall')\n",
    "    auc = ea.scalars.Items('eval/AUC-ROC')\n",
    "except KeyError as e:\n",
    "    print(f\"標籤名稱錯誤: {e}\")\n",
    "    print(\"請確認標籤名稱是否正確，並參考上述列出的可用標籤。\")\n",
    "    exit(1)\n",
    "\n",
    "# 提取數據\n",
    "mcc_steps, mcc_values = extract_steps_and_values(mcc)\n",
    "precision_steps, precision_values = extract_steps_and_values(precision)\n",
    "recall_steps, recall_values = extract_steps_and_values(recall)\n",
    "auc_steps, auc_values = extract_steps_and_values(auc)\n",
    "\n",
    "# 繪製評估指標的變化趨勢\n",
    "fig, axs = plt.subplots(3, 1, figsize=(12, 18))\n",
    "\n",
    "# 1. Matthews Correlation Coefficient (MCC)\n",
    "axs[0].plot(mcc_steps, mcc_values, marker='o', color='blue', label='MCC')\n",
    "axs[0].set_xlabel('Steps')\n",
    "axs[0].set_ylabel('MCC')\n",
    "axs[0].set_title(\"Matthews Correlation Coefficient (MCC) over Steps - DistilBert\")\n",
    "axs[0].legend()\n",
    "axs[0].grid(True)\n",
    "\n",
    "# 2. Precision and Recall\n",
    "axs[1].plot(precision_steps, precision_values, marker='x', color='green', label='Precision')\n",
    "axs[1].plot(recall_steps, recall_values, marker='s', color='red', label='Recall')\n",
    "axs[1].set_xlabel('Steps')\n",
    "axs[1].set_ylabel('Score')\n",
    "axs[1].set_title(\"Precision and Recall over Steps - DistilBert\")\n",
    "axs[1].legend()\n",
    "axs[1].grid(True)\n",
    "\n",
    "# 3. AUC-ROC\n",
    "axs[2].plot(auc_steps, auc_values, marker='d', color='purple', label='AUC-ROC')\n",
    "axs[2].set_xlabel('Steps')\n",
    "axs[2].set_ylabel('AUC-ROC')\n",
    "axs[2].set_title(\"AUC-ROC over Steps - DistilBert\")\n",
    "axs[2].legend()\n",
    "axs[2].grid(True)\n",
    "\n",
    "# 調整子圖間距\n",
    "plt.tight_layout()\n",
    "\n",
    "# 顯示圖表\n",
    "plt.show()\n",
    "\n",
    "# 如果需要保存圖表，可以取消註解以下行\n",
    "# plt.savefig('evaluation_metrics.png')\n"
   ]
  },
  {
   "cell_type": "code",
   "execution_count": 52,
   "metadata": {},
   "outputs": [
    {
     "name": "stdout",
     "output_type": "stream",
     "text": [
      "Avaliable scalar tags :\n",
      "train/loss\n",
      "train/grad_norm\n",
      "train/learning_rate\n",
      "train/epoch\n",
      "eval/loss\n",
      "eval/Accuracy\n",
      "eval/F1\n",
      "eval/Precision\n",
      "eval/Recall\n",
      "eval/MCC\n",
      "eval/AUC-ROC\n",
      "eval/runtime\n",
      "eval/samples_per_second\n",
      "eval/steps_per_second\n",
      "train/train_runtime\n",
      "train/train_samples_per_second\n",
      "train/train_steps_per_second\n",
      "train/total_flos\n",
      "train/train_loss\n",
      "====================================================================================================\n"
     ]
    },
    {
     "data": {
      "image/png": "[encoded data removed]",
      "text/plain": [
       "<Figure size 640x480 with 1 Axes>"
      ]
     },
     "metadata": {},
     "output_type": "display_data"
    },
    {
     "data": {
      "image/png": "[encoded data removed]",
      "text/plain": [
       "<Figure size 640x480 with 1 Axes>"
      ]
     },
     "metadata": {},
     "output_type": "display_data"
    },
    {
     "data": {
      "image/png": "[encoded data removed]",
      "text/plain": [
       "<Figure size 640x480 with 1 Axes>"
      ]
     },
     "metadata": {},
     "output_type": "display_data"
    }
   ],
   "source": [
    "import matplotlib.pyplot as plt\n",
    "from tensorboard.backend.event_processing import event_accumulator\n",
    "\n",
    "# ============================================================================================\n",
    "# 定義一個函式來提取步驟和數值\n",
    "def extract_steps_and_values(data):\n",
    "    steps = [x.step for x in data]\n",
    "    values = [x.value for x in data]\n",
    "    return steps, values\n",
    "\n",
    "# ============================================================================================\n",
    "\n",
    "# 指定 TensorBoard 日誌檔案夾路徑\n",
    "log_dir = '../6/model_reversed/BERT_logs_2'  # 根據實際情況修改路徑\n",
    "ea = event_accumulator.EventAccumulator(log_dir)\n",
    "ea.Reload()\n",
    "\n",
    "# 列出所有可用的標量標籤\n",
    "tags = ea.Tags()\n",
    "tags = tags[\"scalars\"]\n",
    "print(\"Avaliable scalar tags :\")\n",
    "for i in tags: print(i)\n",
    "print(\"=\"*100)\n",
    "\n",
    "# ============================================================================================\n",
    "# 提取標量數據（根據實際標籤名稱）\n",
    "train_loss = ea.scalars.Items(\"train/loss\")\n",
    "eval_loss = ea.scalars.Items(\"eval/loss\")\n",
    "\n",
    "eval_Precision = ea.scalars.Items(\"eval/Precision\")\n",
    "eval_Recall = ea.scalars.Items(\"eval/Recall\")\n",
    "\n",
    "eval_MCC = ea.scalars.Items(\"eval/MCC\")\n",
    "eval_AUC_ROC = ea.scalars.Items(\"eval/AUC-ROC\")\n",
    "\n",
    "\n",
    "# 提取數據\n",
    "train_loss_steps, train_loss_values = extract_steps_and_values(train_loss)\n",
    "eval_loss_steps, eval_loss_values = extract_steps_and_values(eval_loss)\n",
    "\n",
    "eval_Precision_steps, eval_Precision_values  = extract_steps_and_values(eval_Precision)\n",
    "eval_Recall_steps, eval_Recall_values = extract_steps_and_values(eval_Recall)\n",
    "\n",
    "mcc_steps, mcc_values = extract_steps_and_values(eval_MCC)\n",
    "auc_steps, auc_values = extract_steps_and_values(eval_AUC_ROC)\n",
    "\n",
    "\n",
    "\n",
    "# ============================================================================================\n",
    "# 繪圖\n",
    "def plot_compute_metrics(InputDict):\n",
    "    if (\"scalex2\" in InputDict):\n",
    "        plt.plot(InputDict[\"scalex\"], InputDict[\"scaley\"], \n",
    "                marker=InputDict[\"marker\"], color=InputDict[\"color\"], label = InputDict[\"label\"])\n",
    "        plt.plot(InputDict[\"scalex2\"], InputDict[\"scaley2\"], \n",
    "                marker=InputDict[\"marker2\"], color=InputDict[\"color2\"], label = InputDict[\"label2\"])\n",
    "        plt.xlabel(InputDict[\"xlabel\"])\n",
    "        plt.ylabel(InputDict[\"ylabel\"])\n",
    "        plt.title(InputDict[\"title\"])\n",
    "        plt.legend(loc = InputDict[\"legend\"])\n",
    "        plt.grid(InputDict[\"grid\"])\n",
    "        plt.show()\n",
    "    else:\n",
    "        \n",
    "        plt.plot(InputDict[\"scalex\"], InputDict[\"scaley\"], \n",
    "                marker=InputDict[\"marker\"], color=InputDict[\"color\"], label = InputDict[\"label\"])\n",
    "        plt.xlabel(InputDict[\"xlabel\"])\n",
    "        plt.ylabel(InputDict[\"ylabel\"])\n",
    "        plt.title(InputDict[\"title\"])\n",
    "        plt.legend(loc = InputDict[\"legend\"])\n",
    "        plt.grid(InputDict[\"grid\"])\n",
    "        plt.show()\n",
    "\n",
    "# ============================================================================================\n",
    "# 2. Precision and Recall\n",
    "plot_Precision_and_Recall_Dict = {\n",
    "        # ========================\n",
    "        \"scalex\":eval_Precision_steps,\n",
    "        \"scaley\":eval_Precision_values,\n",
    "        \"marker\":\"x\",\n",
    "        \"color\":\"green\",\n",
    "        \"label\":\"Precision\",\n",
    "        # ========================\n",
    "        \"scalex2\":eval_Recall_steps,\n",
    "        \"scaley2\":eval_Recall_values,\n",
    "        \"marker2\":\"s\",\n",
    "        \"color2\":\"red\",\n",
    "        \"label2\":\"Recall\",\n",
    "        # ========================\n",
    "        \"xlabel\":\"Steps\",\n",
    "        \"ylabel\":\"Score\",\n",
    "        \"title\":\"Precision and Recall over Steps - BERT\",\n",
    "        \"legend\":\"lower right\",\n",
    "        \"grid\":True\n",
    "    }\n",
    "plot_compute_metrics(plot_Precision_and_Recall_Dict)\n",
    "\n",
    "# ============================================================================================\n",
    "# 3. Matthews Correlation Coefficient (MCC)\n",
    "plotMCCDict = {\n",
    "        # ========================\n",
    "        \"scalex\":mcc_steps,\n",
    "        \"scaley\":mcc_values,\n",
    "        # ========================\n",
    "        \"marker\":\"o\",\n",
    "        \"color\":\"blue\",\n",
    "        # ========================\n",
    "        \"label\":\"MCC\",\n",
    "        # ========================\n",
    "        \"xlabel\":\"Steps\",\n",
    "        \"ylabel\":\"MCC\",\n",
    "        \"title\":\"MCC over Steps - BERT\",\n",
    "        \"legend\":\"lower right\",\n",
    "        \"grid\":True\n",
    "    }\n",
    "plot_compute_metrics(plotMCCDict)\n",
    "\n",
    "# ============================================================================================\n",
    "# 4. AUC-ROC\n",
    "plot_AUC_Dict = {\n",
    "        # ========================\n",
    "        \"scalex\":auc_steps,\n",
    "        \"scaley\":auc_values,\n",
    "        # ========================\n",
    "        \"marker\":\"d\",\n",
    "        \"color\":\"purple\",\n",
    "        # ========================\n",
    "        \"label\":\"AUC-ROC\",\n",
    "        # ========================\n",
    "        \"xlabel\":\"Steps\",\n",
    "        \"ylabel\":\"AUC-ROC\",\n",
    "        \"title\":\"AUC-ROC over Steps - BERT\",\n",
    "        \"legend\":\"lower right\",\n",
    "        \"grid\":True\n",
    "    }\n",
    "plot_compute_metrics(plot_AUC_Dict)"
   ]
  },
  {
   "cell_type": "markdown",
   "metadata": {},
   "source": [
    "## 比較"
   ]
  },
  {
   "cell_type": "code",
   "execution_count": null,
   "metadata": {},
   "outputs": [],
   "source": [
    "# model = model_DistilBert\n",
    "# dataset = enc_test_DistilBert\n",
    "# batch_size = 64\n",
    "# num_runs = 5"
   ]
  },
  {
   "cell_type": "code",
   "execution_count": null,
   "metadata": {},
   "outputs": [],
   "source": [
    "\"\"\"\n",
    "with torch.no_grad(): 的作用\n",
    "torch.no_grad() 是 PyTorch 提供的一個上下文管理器（context manager），\n",
    "其主要功能是在其作用範圍內禁用梯度計算（gradient computation）。\n",
    "這意味著在 with torch.no_grad(): 區塊內的所有操作都不會被追蹤計算梯度，從而節省記憶體並提高運算速度。\n",
    "\n",
    "詳細說明\n",
    "禁用梯度計算\n",
    "\n",
    "默認行為：在訓練模式下，PyTorch 會自動追蹤所有張量的運算，這是為了在反向傳播（backpropagation）時計算梯度。\n",
    "推理模式：在模型推理或評估時，您通常不需要計算梯度，因此禁用梯度計算可以減少不必要的計算開銷。\n",
    "記憶體節省\n",
    "\n",
    "當梯度計算被禁用時，PyTorch 不會為每個操作存儲中間梯度，這大大減少了記憶體的使用，特別是在處理大型模型或大量資料時尤為重要。\n",
    "運算速度提升\n",
    "\n",
    "禁用梯度計算後，PyTorch 可以進行更快的前向傳播（forward pass），因為它不需要處理梯度相關的操作。\n",
    "使用情境\n",
    "模型推理（Inference）：在生產環境中使用訓練好的模型進行預測時，通常會使用 torch.no_grad() 來提高效率。\n",
    "模型評估（Evaluation）：在驗證集或測試集上評估模型性能時，亦會使用 torch.no_grad() 來加速運算並節省記憶體。\n",
    "\"\"\""
   ]
  },
  {
   "cell_type": "code",
   "execution_count": 97,
   "metadata": {},
   "outputs": [],
   "source": [
    "def drawLine():\n",
    "    print(\"=\"*300)"
   ]
  },
  {
   "cell_type": "code",
   "execution_count": 10,
   "metadata": {},
   "outputs": [],
   "source": [
    "import torch\n",
    "import time\n",
    "\n",
    "def measire_inference_time(model,dataset,batch_size = 64,num_runs = 5):\n",
    "    model.to(\"cuda\")\n",
    "    model.eval()\n",
    "    \n",
    "    data_length = len(dataset) # 4000\n",
    "    #print(data_length)\n",
    "    total_times = []\n",
    "    \n",
    "    for run in range (num_runs):\n",
    "        start_time = time.time()\n",
    "        with torch.no_grad(): #??\n",
    "            for start_idx in range(0,data_length,batch_size):\n",
    "                end_idx = start_idx + batch_size\n",
    "                batch = dataset[start_idx:end_idx] # 一次從dataset拿出64個來，存入新變數batch\n",
    "                #print(end_idx)\n",
    "                \n",
    "                # for keys,values in batch.items():\n",
    "                #     print(keys)\n",
    "                #     print(values)\n",
    "                \n",
    "                # drawLine()\n",
    "                # print(\"text\")\n",
    "                # text = torch.tensor(batch[\"text\"]).to(\"cuda\")\n",
    "                # print(text)\n",
    "                \n",
    "                \"\"\"\n",
    "                在進行推理時，模型通常只需要 input_ids 和 attention_mask 這兩個鍵對應的張量\n",
    "                模型輸入需求：\n",
    "\n",
    "                在大多數 NLP 模型中，如 BERT、GPT 等，模型的輸入主要是 input_ids 和 attention_mask，\n",
    "                這些是已經被編碼和處理過的數據，適合直接輸入到模型中進行推理。\n",
    "                text 通常是原始的字符串數據，主要用於展示、日誌記錄或後續處理（如生成可讀的輸出），而不是直接用於模型的計算。\n",
    "                \"\"\"\n",
    "                #print(len(batch))\n",
    "                # drawLine()\n",
    "                # print(\"input_ids\")\n",
    "                input_ids = torch.tensor(batch[\"input_ids\"]).to(\"cuda\")\n",
    "                # print(input_ids)\n",
    "                \n",
    "                # drawLine()\n",
    "                # print(\"attention_mask\")\n",
    "                attention_mask = torch.tensor(batch[\"attention_mask\"]).to(\"cuda\")        \n",
    "                # print(attention_mask)\n",
    "                \n",
    "                # 把input_ids和attention_mask集合在一起，並宣告一個新變數inputs來儲存\n",
    "                inputs = {\n",
    "                    \"input_ids\" : input_ids,\n",
    "                    \"attention_mask\" : attention_mask\n",
    "                }\n",
    "                # drawLine()\n",
    "                # print(inputs)\n",
    "                \n",
    "                outputs = model(**inputs)\n",
    "\n",
    "                #break\n",
    "                \n",
    "        end_time = time.time()\n",
    "        run_time = end_time - start_time\n",
    "        total_times.append(run_time)\n",
    "        print(f\"執行時間 : {run_time:.4f} 秒\")\n",
    "    return total_times"
   ]
  },
  {
   "cell_type": "markdown",
   "metadata": {},
   "source": [
    "##### 時間"
   ]
  },
  {
   "cell_type": "code",
   "execution_count": null,
   "metadata": {},
   "outputs": [],
   "source": [
    "total_times_BERT = measire_inference_time(model_BERT, enc_test_BERT)"
   ]
  },
  {
   "cell_type": "code",
   "execution_count": null,
   "metadata": {},
   "outputs": [],
   "source": [
    "total_times_DistilBert = measire_inference_time(model_DistilBert, enc_test_DistilBert)"
   ]
  },
  {
   "cell_type": "markdown",
   "metadata": {},
   "source": [
    "##### 記憶體"
   ]
  },
  {
   "cell_type": "code",
   "execution_count": null,
   "metadata": {},
   "outputs": [],
   "source": [
    "import torch\n",
    "\n",
    "def measure_memory_usage (model,dataset,batch_size=64):\n",
    "    model.to(\"cuda\")\n",
    "    model.eval()\n",
    "    \n",
    "    data_length = len(dataset)\n",
    "    total_times = []\n",
    "    \n",
    "    torch.cuda.reset_peak_memory_stats()\n",
    "    \n",
    "    with torch.no_grad():\n",
    "        for start_idx in range (0,data_length,batch_size):\n",
    "            end_idx = start_idx + batch_size\n",
    "            batch = dataset[start_idx:end_idx]\n",
    "            \n",
    "            input_ids = torch.tensor(batch[\"input_ids\"]).to(\"cuda\")            \n",
    "            attention_mask = torch.tensor(batch[\"attention_mask\"]).to(\"cuda\")\n",
    "            \n",
    "            inputs = {\n",
    "                \"input_ids\" : input_ids,\n",
    "                \"attention_mask\" : attention_mask,\n",
    "            }\n",
    "            \n",
    "            outputs = model(**inputs)\n",
    "        \n",
    "        peak_memory = torch.cuda.max_memory_allocated() / (1024**2) # 單位為MB\n",
    "        return peak_memory\n",
    "                        \n",
    "    "
   ]
  },
  {
   "cell_type": "code",
   "execution_count": null,
   "metadata": {},
   "outputs": [],
   "source": [
    "memory_usage_BERT = measure_memory_usage(model_BERT,enc_test_BERT)\n",
    "print(f\"使用了{memory_usage_BERT:.4f}MB的記憶體\")"
   ]
  },
  {
   "cell_type": "code",
   "execution_count": null,
   "metadata": {},
   "outputs": [],
   "source": [
    "memory_usage_distilBert = measure_memory_usage(model_DistilBert,enc_test_DistilBert)\n",
    "print(f\"使用了{memory_usage_distilBert:.4f}MB的記憶體\")"
   ]
  },
  {
   "cell_type": "markdown",
   "metadata": {},
   "source": []
  },
  {
   "cell_type": "code",
   "execution_count": null,
   "metadata": {},
   "outputs": [],
   "source": [
    "import os\n",
    "\n",
    "params_DistilBert = sum(p.numel() for p in model_DistilBert.parameters())\n",
    "print(f\"DistilBERT 模型參數數量：{params_DistilBert}\")\n",
    "\n",
    "params_BERT = sum(p.numel() for p in model_BERT.parameters())\n",
    "print(f\"BERT 模型參數數量：{params_BERT}\")\n"
   ]
  },
  {
   "cell_type": "code",
   "execution_count": null,
   "metadata": {},
   "outputs": [],
   "source": [
    "import os\n",
    "\n",
    "def get_folder_size(folder_path):\n",
    "    total_size = 0\n",
    "    for dirpath, dirnames, filenames in os.walk(folder_path):\n",
    "        for filename in filenames:\n",
    "            file_path = os.path.join(dirpath, filename)\n",
    "            # 確認檔案是否存在，避免錯誤\n",
    "            if os.path.exists(file_path):\n",
    "                total_size += os.path.getsize(file_path)\n",
    "    return total_size\n",
    "\n",
    "def format_size(size_in_bytes):\n",
    "    # 將位元組轉換為可讀格式\n",
    "    for unit in [\"位元組\",\"KB\",\"MB\",\"GB\",\"TB\"]:\n",
    "        if (size_in_bytes < 1024):\n",
    "            return f\"{size_in_bytes:.2f} {unit}\"\n",
    "        size_in_bytes /= 1024\n",
    "\n",
    "# os.path.getsize 只針對單一檔案。如果要計算整個資料夾的大小，需要遞迴遍歷資料夾中的每個檔案並累加大小。\n",
    "path_Name_DistilBert = \"./results_DistilBert/checkpoint-375\"\n",
    "path_Name_BERT = \"./results_BERT/checkpoint-375\"\n",
    "\n",
    "path = path_Name_BERT\n",
    "try:\n",
    "    size = get_folder_size(path)\n",
    "    print(f\"{format_size(size)} (資料夾大小 {size} 位元組)\")\n",
    "except Exception as e:\n",
    "    print(f\"計算資料夾大小發生錯誤 : {e}\")\n"
   ]
  }
 ],
 "metadata": {
  "kernelspec": {
   "display_name": "Python 3",
   "language": "python",
   "name": "python3"
  },
  "language_info": {
   "codemirror_mode": {
    "name": "ipython",
    "version": 3
   },
   "file_extension": ".py",
   "mimetype": "text/x-python",
   "name": "python",
   "nbconvert_exporter": "python",
   "pygments_lexer": "ipython3",
   "version": "3.12.6"
  }
 },
 "nbformat": 4,
 "nbformat_minor": 2
}
