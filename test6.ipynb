{
 "cells": [
  {
   "cell_type": "code",
   "execution_count": 1,
   "metadata": {},
   "outputs": [],
   "source": [
    "import torch\n",
    "from transformers import BertForQuestionAnswering, BertTokenizer\n",
    "from transformers import DistilBertForQuestionAnswering, DistilBertTokenizer\n",
    "from sklearn.metrics import f1_score\n",
    "import numpy as np"
   ]
  },
  {
   "cell_type": "code",
   "execution_count": 3,
   "metadata": {},
   "outputs": [
    {
     "data": {
      "application/vnd.jupyter.widget-view+json": {
       "model_id": "a9294b6a6ae645f190a3b4aef866ab68",
       "version_major": 2,
       "version_minor": 0
      },
      "text/plain": [
       "config.json:   0%|          | 0.00/443 [00:00<?, ?B/s]"
      ]
     },
     "metadata": {},
     "output_type": "display_data"
    },
    {
     "name": "stderr",
     "output_type": "stream",
     "text": [
      "c:\\Users\\PARALELL\\AppData\\Local\\Programs\\Python\\Python312\\Lib\\site-packages\\huggingface_hub\\file_download.py:139: UserWarning: `huggingface_hub` cache-system uses symlinks by default to efficiently store duplicated files but your machine does not support them in C:\\Users\\PARALELL\\.cache\\huggingface\\hub\\models--google-bert--bert-large-uncased-whole-word-masking-finetuned-squad. Caching files will still work but in a degraded version that might require more space on your disk. This warning can be disabled by setting the `HF_HUB_DISABLE_SYMLINKS_WARNING` environment variable. For more details, see https://huggingface.co/docs/huggingface_hub/how-to-cache#limitations.\n",
      "To support symlinks on Windows, you either need to activate Developer Mode or to run Python as an administrator. In order to activate developer mode, see this article: https://docs.microsoft.com/en-us/windows/apps/get-started/enable-your-device-for-development\n",
      "  warnings.warn(message)\n"
     ]
    },
    {
     "data": {
      "application/vnd.jupyter.widget-view+json": {
       "model_id": "3feaba5424b84cfd87b48588dda844f6",
       "version_major": 2,
       "version_minor": 0
      },
      "text/plain": [
       "model.safetensors:   0%|          | 0.00/1.34G [00:00<?, ?B/s]"
      ]
     },
     "metadata": {},
     "output_type": "display_data"
    },
    {
     "name": "stderr",
     "output_type": "stream",
     "text": [
      "Some weights of the model checkpoint at google-bert/bert-large-uncased-whole-word-masking-finetuned-squad were not used when initializing BertForQuestionAnswering: ['bert.pooler.dense.bias', 'bert.pooler.dense.weight']\n",
      "- This IS expected if you are initializing BertForQuestionAnswering from the checkpoint of a model trained on another task or with another architecture (e.g. initializing a BertForSequenceClassification model from a BertForPreTraining model).\n",
      "- This IS NOT expected if you are initializing BertForQuestionAnswering from the checkpoint of a model that you expect to be exactly identical (initializing a BertForSequenceClassification model from a BertForSequenceClassification model).\n"
     ]
    },
    {
     "data": {
      "application/vnd.jupyter.widget-view+json": {
       "model_id": "e62bd5865fa548a9abcef88547344d73",
       "version_major": 2,
       "version_minor": 0
      },
      "text/plain": [
       "tokenizer_config.json:   0%|          | 0.00/48.0 [00:00<?, ?B/s]"
      ]
     },
     "metadata": {},
     "output_type": "display_data"
    },
    {
     "data": {
      "application/vnd.jupyter.widget-view+json": {
       "model_id": "a06f1038a6b14898b959840c9ba0c81b",
       "version_major": 2,
       "version_minor": 0
      },
      "text/plain": [
       "vocab.txt:   0%|          | 0.00/232k [00:00<?, ?B/s]"
      ]
     },
     "metadata": {},
     "output_type": "display_data"
    },
    {
     "data": {
      "application/vnd.jupyter.widget-view+json": {
       "model_id": "f5b7459dd9154583b9ae58907a0973f1",
       "version_major": 2,
       "version_minor": 0
      },
      "text/plain": [
       "tokenizer.json:   0%|          | 0.00/466k [00:00<?, ?B/s]"
      ]
     },
     "metadata": {},
     "output_type": "display_data"
    }
   ],
   "source": [
    "# 定義模型和tokenizer\n",
    "model_name_or_path = \"google-bert/bert-large-uncased-whole-word-masking-finetuned-squad\"\n",
    "model_BERT = BertForQuestionAnswering.from_pretrained(model_name_or_path)\n",
    "tokenizer_BERT = BertTokenizer.from_pretrained(model_name_or_path)"
   ]
  },
  {
   "cell_type": "code",
   "execution_count": 14,
   "metadata": {},
   "outputs": [],
   "source": [
    "model_name_or_path = \"C:/Users/PARALELL/Desktop/code/DistilBert BERT/0. models/distilbert-base-uncased-distilled-squad\"\n",
    "model_distilBert = DistilBertForQuestionAnswering.from_pretrained(model_name_or_path)\n",
    "tokenizer_distilBert = DistilBertTokenizer.from_pretrained(model_name_or_path)"
   ]
  },
  {
   "cell_type": "code",
   "execution_count": 5,
   "metadata": {},
   "outputs": [],
   "source": [
    "from datasets import load_dataset\n",
    "\n",
    "# 加載IMDb資料集\n",
    "dataset = load_dataset('imdb')"
   ]
  },
  {
   "cell_type": "code",
   "execution_count": 7,
   "metadata": {},
   "outputs": [
    {
     "name": "stdout",
     "output_type": "stream",
     "text": [
      "I rented I AM CURIOUS-YELLOW from my video store because of all the controversy that surrounded it when it was first released in 1967. I also heard that at first it was seized by U.S. customs if it ever tried to enter this country, therefore being a fan of films considered \"controversial\" I really had to see this for myself.<br /><br />The plot is centered around a young Swedish drama student named Lena who wants to learn everything she can about life. In particular she wants to focus her attentions to making some sort of documentary on what the average Swede thought about certain political issues such as the Vietnam War and race issues in the United States. In between asking politicians and ordinary denizens of Stockholm about their opinions on politics, she has sex with her drama teacher, classmates, and married men.<br /><br />What kills me about I AM CURIOUS-YELLOW is that 40 years ago, this was considered pornographic. Really, the sex and nudity scenes are few and far between, even then it's not shot like some cheaply made porno. While my countrymen mind find it shocking, in reality sex and nudity are a major staple in Swedish cinema. Even Ingmar Bergman, arguably their answer to good old boy John Ford, had sex scenes in his films.<br /><br />I do commend the filmmakers for the fact that any sex shown in the film is shown for artistic purposes rather than just to shock people and make money to be shown in pornographic theaters in America. I AM CURIOUS-YELLOW is a good film for anyone wanting to study the meat and potatoes (no pun intended) of Swedish cinema. But really, this film doesn't have much of a plot.\n"
     ]
    }
   ],
   "source": [
    "questions = [\n",
    "    \"What is the overall sentiment of the review?\",\n",
    "    \"How does the reviewer descibe the main actor`s performances?\",\n",
    "    \"What does the reviewer say about the plot design?\",\n",
    "]\n",
    "\n",
    "context = dataset[\"train\"][0][\"text\"]\n",
    "print(context)"
   ]
  },
  {
   "cell_type": "code",
   "execution_count": 12,
   "metadata": {},
   "outputs": [],
   "source": [
    "def get_answer(model, tokenizer, question, context):\n",
    "    inputs = tokenizer.encode_plus(question,context,return_tensors = \"pt\") # ??\n",
    "    with torch.no_grad():\n",
    "        outputs = model(**inputs)\n",
    "    ansewer_start = torch.argmax(outputs.start_logits)\n",
    "    ansewer_end = torch.argmax(outputs.end_logits)\n",
    "    answer = tokenizer.convert_tokens_to_string(tokenizer.convert_ids_to_tokens(inputs[\"input_ids\"][0][ansewer_start:ansewer_end]))\n",
    "    return answer"
   ]
  },
  {
   "cell_type": "code",
   "execution_count": 13,
   "metadata": {},
   "outputs": [
    {
     "name": "stdout",
     "output_type": "stream",
     "text": [
      "BERT回答 : \n",
      "BERT回答 : \n",
      "BERT回答 : doesn ' t have much of a\n"
     ]
    }
   ],
   "source": [
    "for question in questions:\n",
    "    bert_answer = get_answer(model_BERT, tokenizer_BERT, question, context)\n",
    "    print(f\"BERT回答 : {bert_answer}\")"
   ]
  },
  {
   "cell_type": "code",
   "execution_count": null,
   "metadata": {},
   "outputs": [
    {
     "name": "stdout",
     "output_type": "stream",
     "text": [
      "context :\n",
      " I rented I AM CURIOUS-YELLOW from my video store because of all the controversy that surrounded it when it was first released in 1967. I also heard that at first it was seized by U.S. customs if it ever tried to enter this country, therefore being a fan of films considered \"controversial\" I really had to see this for myself.<br /><br />The plot is centered around a young Swedish drama student named Lena who wants to learn everything she can about life. In particular she wants to focus her attentions to making some sort of documentary on what the average Swede thought about certain political issues such as the Vietnam War and race issues in the United States. In between asking politicians and ordinary denizens of Stockholm about their opinions on politics, she has sex with her drama teacher, classmates, and married men.<br /><br />What kills me about I AM CURIOUS-YELLOW is that 40 years ago, this was considered pornographic. Really, the sex and nudity scenes are few and far between, even then it's not shot like some cheaply made porno. While my countrymen mind find it shocking, in reality sex and nudity are a major staple in Swedish cinema. Even Ingmar Bergman, arguably their answer to good old boy John Ford, had sex scenes in his films.<br /><br />I do commend the filmmakers for the fact that any sex shown in the film is shown for artistic purposes rather than just to shock people and make money to be shown in pornographic theaters in America. I AM CURIOUS-YELLOW is a good film for anyone wanting to study the meat and potatoes (no pun intended) of Swedish cinema. But really, this film doesn't have much of a plot.\n",
      "answer : [CLS]\n"
     ]
    }
   ],
   "source": [
    "# ==============================================================================================================================\n",
    "# 需要根據真實影評，反向設計題目\n",
    "questions = [\n",
    "    #\"What does the reviewer commend the filmmakers for?\",\n",
    "    \"What is the overall sentiment of the review?\",\n",
    "    \"How does the reviewer descibe the main actor`s performances?\",\n",
    "    \"What does the reviewer say about the plot design?\",\n",
    "]\n",
    "\n",
    "import re\n",
    "# 清理文本函數\n",
    "def clean_text(text):\n",
    "    # 去除HTML標籤\n",
    "    text = re.sub(r'<[^>]+>', '', text)\n",
    "    return text\n",
    "\n",
    "context = clean_text(dataset[\"train\"][0][\"text\"])\n",
    "print(\"context :\\n\",context)\n",
    "\n",
    "# ==============================================================================================================================\n",
    "model = model_BERT\n",
    "tokenizer = tokenizer_BERT\n",
    "question = questions[0]\n",
    "\n",
    "# ==============================================================================================================================\n",
    "inputs = tokenizer.encode_plus(question,context,return_tensors = \"pt\") # ??\n",
    "#print(\"inputs :\\n\",inputs)\n",
    "with torch.no_grad():\n",
    "    outputs = model(**inputs)\n",
    "ansewer_start = torch.argmax(outputs.start_logits)\n",
    "ansewer_end = torch.argmax(outputs.end_logits) + 1 \n",
    "answer = tokenizer.convert_tokens_to_string(tokenizer.convert_ids_to_tokens(inputs[\"input_ids\"][0][ansewer_start:ansewer_end]))\n",
    "print(\"answer :\",answer) # 若模型無法找到合適的答案，則會返回 [CLS]"
   ]
  },
  {
   "cell_type": "markdown",
   "metadata": {},
   "source": []
  },
  {
   "cell_type": "code",
   "execution_count": null,
   "metadata": {},
   "outputs": [],
   "source": [
    "# 評估指標示範（假設真實答案已知）\n",
    "true_answers = [\n",
    "    \"positive\",\n",
    "    \"excellent\",\n",
    "    \"well-designed\",\n",
    "]\n",
    "\n",
    "def coupute_em_f1 (pred, true):\n",
    "    prd = pred.lower().strip()\n",
    "    ture = true.lower().strip()\n",
    "    em = int(pred == true)\n",
    "\n",
    "    pred_tokens = pred.split()\n",
    "    true_tokens = true.split()\n",
    "    common = set(pred_tokens) & set(true_tokens)\n",
    "    f1 = (2 * len(common)) / len(pred_tokens) + len(true_tokens)\n",
    "    if (len(pred_tokens) + len(true_tokens) > 0) :\n",
    "        return em, f1\n",
    "    else:\n",
    "        0\n",
    "\n",
    "for i, question in enumerate(questions):\n",
    "    BERT_em, BERT_f1 = coupute_em_f1(get_answer(model_BERT, tokenizer_BERT, question, context), true_answers[i])\n",
    "    distilBert_em, distilBert_f1 = coupute_em_f1(get_answer(model_distilBert, tokenizer_distilBert, question, context), true_answers[i])\n",
    "    print(f\"問題 :{question}\")\n",
    "    print(f\"BERT-EM : {BERT_em}, F1 :{BERT_f1}\")\n",
    "    print(f\"DistilBert-EM : {distilBert_em}, F1 :{distilBert_f1}\")\n"
   ]
  }
 ],
 "metadata": {
  "kernelspec": {
   "display_name": "Python 3",
   "language": "python",
   "name": "python3"
  },
  "language_info": {
   "codemirror_mode": {
    "name": "ipython",
    "version": 3
   },
   "file_extension": ".py",
   "mimetype": "text/x-python",
   "name": "python",
   "nbconvert_exporter": "python",
   "pygments_lexer": "ipython3",
   "version": "3.12.6"
  }
 },
 "nbformat": 4,
 "nbformat_minor": 2
}
